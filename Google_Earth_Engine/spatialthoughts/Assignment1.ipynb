{
 "cells": [
  {
   "cell_type": "code",
   "execution_count": 1,
   "id": "cf919e5c-de92-4c61-b3c9-52948e8ca836",
   "metadata": {},
   "outputs": [],
   "source": [
    "import ee\n",
    "import geemap\n",
    "import collections\n",
    "collections.Callable = collections.abc.Callable\n",
    "ee.Initialize()"
   ]
  },
  {
   "cell_type": "code",
   "execution_count": 54,
   "id": "c38a1ed2-8cee-439e-b614-58f70802feb6",
   "metadata": {},
   "outputs": [
    {
     "data": {
      "application/vnd.jupyter.widget-view+json": {
       "model_id": "5d79fb0f925f4216987557b92542b509",
       "version_major": 2,
       "version_minor": 0
      },
      "text/plain": [
       "Map(center=[32.859340964817164, -117.11170156146046], controls=(WidgetControl(options=['position', 'transparen…"
      ]
     },
     "metadata": {},
     "output_type": "display_data"
    }
   ],
   "source": [
    "Map = geemap.Map()\n",
    "\n",
    "s2 = ee.ImageCollection(\"NOAA/VIIRS/DNB/MONTHLY_V1/VCMSLCFG\")\n",
    "\n",
    "urban = ee.FeatureCollection(\"users/jordandaleyco/ne_10m_urban_areas\")\n",
    "filtered = urban.filter(ee.Filter.eq('system:index', '00000000000000002397'))\n",
    "geometry = filtered.geometry()\n",
    "\n",
    "Map.centerObject(geometry, 9)\n",
    "\n",
    "filtered = s2.filter(ee.Filter.date('2019-05-01', '2019-06-01')) \\\n",
    "  .filter(ee.Filter.bounds(geometry)) \\\n",
    "  .select('avg_rad')\n",
    "\n",
    "filtered = ee.Image(filtered.first())\n",
    "\n",
    "clipped = filtered.clip(geometry)\n",
    "\n",
    "Map.addLayer(clipped,{'min':0,'max':200,'palette':['000000','505050','999999','ffffff','ffffff','ffffff','ffffff']},\"May 2019\")\n",
    "Map"
   ]
  },
  {
   "cell_type": "code",
   "execution_count": 55,
   "id": "d09685be-fc23-42a2-8dcf-584988f6335d",
   "metadata": {},
   "outputs": [],
   "source": [
    "task = ee.batch.Export.image.toDrive(\n",
    "    image=clipped,\n",
    "    description='SanDiego_May_2019',\n",
    "    folder='earthengine',\n",
    "    fileNamePrefix='sandiego_may_2019',\n",
    "    region=geometry,\n",
    "    scale=20,\n",
    "    maxPixels=1e9\n",
    ")\n",
    "\n",
    "task.start()\n",
    "\n",
    "filtered = urban.filter(ee.Filter.eq('system:index', '00000000000000002397'))\n",
    "\n",
    "filtered = s2.filter(ee.Filter.date('2020-05-01', '2020-06-01')) \\\n",
    "  .filter(ee.Filter.bounds(geometry)) \\\n",
    "  .select('avg_rad')\n",
    "\n",
    "filtered = ee.Image(filtered.first())\n",
    "\n",
    "clipped = filtered.clip(geometry)\n",
    "\n",
    "task = ee.batch.Export.image.toDrive(\n",
    "    image=clipped,\n",
    "    description='SanDiego_May_2020',\n",
    "    folder='earthengine',\n",
    "    fileNamePrefix='sandiego_may_2020',\n",
    "    region=geometry,\n",
    "    scale=20,\n",
    "    maxPixels=1e9\n",
    ")\n",
    "\n",
    "task.start()"
   ]
  },
  {
   "cell_type": "code",
   "execution_count": null,
   "id": "b9d14912-033e-427f-a815-fbd3afa7f9a9",
   "metadata": {},
   "outputs": [],
   "source": []
  }
 ],
 "metadata": {
  "kernelspec": {
   "display_name": "Python 3 (ipykernel)",
   "language": "python",
   "name": "python3"
  },
  "language_info": {
   "codemirror_mode": {
    "name": "ipython",
    "version": 3
   },
   "file_extension": ".py",
   "mimetype": "text/x-python",
   "name": "python",
   "nbconvert_exporter": "python",
   "pygments_lexer": "ipython3",
   "version": "3.10.4"
  }
 },
 "nbformat": 4,
 "nbformat_minor": 5
}
