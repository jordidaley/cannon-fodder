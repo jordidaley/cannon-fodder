{
 "cells": [
  {
   "cell_type": "code",
   "execution_count": 1,
   "id": "1d5509ad-bf83-4b3d-8330-952b8d654e8b",
   "metadata": {},
   "outputs": [],
   "source": [
    "import ee\n",
    "import geemap\n",
    "import collections\n",
    "collections.Callable = collections.abc.Callable\n",
    "ee.Initialize()"
   ]
  },
  {
   "cell_type": "code",
   "execution_count": 10,
   "id": "46324c2d-de22-4847-ae78-506d887cdfcb",
   "metadata": {},
   "outputs": [
    {
     "data": {
      "application/vnd.jupyter.widget-view+json": {
       "model_id": "e398de3dc8314e4bb119ec19e06da328",
       "version_major": 2,
       "version_minor": 0
      },
      "text/plain": [
       "Map(center=[20, 0], controls=(WidgetControl(options=['position', 'transparent_bg'], widget=HBox(children=(Togg…"
      ]
     },
     "metadata": {},
     "output_type": "display_data"
    }
   ],
   "source": [
    "Map = geemap.Map()\n",
    "\n",
    "\n",
    "s2 = ee.ImageCollection(\"COPERNICUS/S2_SR\")\n",
    "basin = ee.FeatureCollection(\"WWF/HydroSHEDS/v1/Basins/hybas_7\")\n",
    "gcp = ee.FeatureCollection(\"users/ujavalgandhi/e2e/arkavathy_gcps\")\n",
    "alos = ee.Image(\"JAXA/ALOS/AW3D30/V2_2\")\n",
    "\n",
    "arkavathy = basin.filter(ee.Filter.eq('HYBAS_ID', 4071139640))\n",
    "boundary = arkavathy.geometry()\n",
    "rgbVis = {\n",
    "  'min': 0.0,\n",
    "  'max': 3000,\n",
    "  'bands': ['B4', 'B3', 'B2'],\n",
    "}\n",
    "# Function to remove cloud and snow pixels from Sentinel-2 SR image\n",
    "\n",
    "def maskCloudAndShadowsSR(image):\n",
    "    cloudProb = image.select('MSK_CLDPRB')\n",
    "    snowProb = image.select('MSK_SNWPRB')\n",
    "    cloud = cloudProb.lt(10)\n",
    "    scl = image.select('SCL')\n",
    "    shadow = scl.eq(3); # 3 = cloud shadow\n",
    "    cirrus = scl.eq(10); # 10 = cirrus\n",
    "    # Cloud probability less than 10% or cloud shadow classification\n",
    "    mask = cloud.And(cirrus.neq(1)).And(shadow.neq(1))\n",
    "    return image.updateMask(mask)\n",
    "\n",
    "filtered = s2 \\\n",
    ".filter(ee.Filter.lt('CLOUDY_PIXEL_PERCENTAGE', 30)) \\\n",
    "  .filter(ee.Filter.date('2019-01-01', '2020-01-01')) \\\n",
    "  .filter(ee.Filter.bounds(boundary)) \\\n",
    "  .map(maskCloudAndShadowsSR) \\\n",
    "  .select('B.*')\n",
    "\n",
    "composite = filtered.median().clip(boundary)\n",
    "\n",
    "visParams = {'bands': ['B4',  'B3',  'B2'], 'min': 0, 'max': 3000, 'gamma': 1.2}\n",
    "Map.centerObject(boundary)\n",
    "Map.addLayer(composite, visParams, 'RGB')\n",
    "\n",
    "def addIndices(image):\n",
    "    ndvi = image.normalizedDifference(['B8', 'B4']).rename(['ndvi'])\n",
    "    ndbi = image.normalizedDifference(['B11', 'B8']).rename(['ndbi'])\n",
    "    mndwi = image.normalizedDifference(['B3', 'B11']).rename(['mndwi'])\n",
    "    bsi = image.expression(\n",
    "      '(( X + Y ) - (A + B)) /(( X + Y ) + (A + B)) ', {\n",
    "        'X': image.select('B11'), #swir1\n",
    "        'Y': image.select('B4'),  #red\n",
    "        'A': image.select('B8'), # nir\n",
    "        'B': image.select('B2'), # blue\n",
    "    }).rename('bsi')\n",
    "    return image.addBands(ndvi).addBands(ndbi).addBands(mndwi).addBands(bsi)\n",
    "\n",
    "composite = addIndices(composite)\n",
    "\n",
    "# Calculate Slope and Elevation\n",
    "elev = alos.select('AVE_DSM').rename('elev')\n",
    "slope = ee.Terrain.slope(alos.select('AVE_DSM')).rename('slope')\n",
    "\n",
    "composite = composite.addBands(elev).addBands(slope)\n",
    "\n",
    "# Normalize the image\n",
    "\n",
    "# Machine learning algorithms work best on images when all features have\n",
    "# the same range\n",
    "\n",
    "# Function to Normalize Image\n",
    "# Pixel Values should be between 0 and 1\n",
    "# Formula is (x - xmin) / (xmax - xmin)\n",
    "#**************************************************************************\n",
    "def normalize(image):\n",
    "    bandNames = image.bandNames()\n",
    "    # Compute min and max of the image\n",
    "    minDict = image.reduceRegion(\n",
    "        reducer=ee.Reducer.min(),\n",
    "        geometry=boundary,\n",
    "        scale=20,\n",
    "        maxPixels=1e9,\n",
    "        bestEffort=True,\n",
    "        tileScale=16\n",
    "    )\n",
    "    maxDict = image.reduceRegion(\n",
    "        reducer=ee.Reducer.max(),\n",
    "        geometry=boundary,\n",
    "        scale=20,\n",
    "        maxPixels=1e9,\n",
    "        bestEffort=True,\n",
    "        tileScale=16\n",
    "    )\n",
    "    mins = ee.Image.constant(minDict.values(bandNames))\n",
    "    maxs = ee.Image.constant(maxDict.values(bandNames))\n",
    "\n",
    "    normalized = image.subtract(mins).divide(maxs.subtract(mins))\n",
    "    return normalized\n",
    "\n",
    "composite = normalize(composite)\n",
    "# Add a random column and split the GCPs into training and validation set\n",
    "gcp = gcp.randomColumn()\n",
    "\n",
    "# This being a simpler classification, we take 60% points\n",
    "# for validation. Normal recommended ratio is\n",
    "# 70% training, 30% validation\n",
    "trainingGcp = gcp.filter(ee.Filter.lt('random', 0.6))\n",
    "validationGcp = gcp.filter(ee.Filter.gte('random', 0.6))\n",
    "Map.addLayer(validationGcp)\n",
    "# Overlay the point on the image to get training data.\n",
    "training = composite.sampleRegions(\n",
    "  collection=trainingGcp,\n",
    "  properties=['landcover'],\n",
    "  scale=10,\n",
    "  tileScale=16\n",
    ")\n",
    "#print(training.getInfo())\n",
    "# Train a classifier.\n",
    "classifier = ee.Classifier.smileRandomForest(50) \\\n",
    ".train(\n",
    "  features=training,\n",
    "  classProperty='landcover',\n",
    "  inputProperties=composite.bandNames()\n",
    ")\n",
    "\n",
    "#**************************************************************************\n",
    "# Feature Importance\n",
    "#**************************************************************************\n",
    "\n",
    "# Run .explain() to see what the classifer looks like\n",
    "#print(classifier.explain().getInfo())\n",
    "\n",
    "# Calculate variable importance\n",
    "importance = ee.Dictionary(classifier.explain().get('importance'))\n",
    "\n",
    "# Calculate relative importance\n",
    "sum = importance.values().reduce(ee.Reducer.sum())\n",
    "\n",
    "def func_wuc(key, val):\n",
    "    return (ee.Number(val).multiply(100)).divide(sum)\n",
    "\n",
    "relativeImportance = importance.map(func_wuc)\n",
    "\n",
    "#print(relativeImportance.getInfo())\n",
    "\n",
    "#**************************************************************************\n",
    "# Hyperparameter Tuning\n",
    "#**************************************************************************\n",
    "\n",
    "test = composite.sampleRegions(\n",
    "  collection=validationGcp,\n",
    "  properties=['landcover'],\n",
    "  scale=10,\n",
    "  tileScale=16\n",
    ")\n",
    "\n",
    "# Tune the numberOfTrees parameter.\n",
    "numTreesList = ee.List.sequence(10, 150, 10)\n",
    "\n",
    "def func_tree(numTrees):\n",
    "    classifier = ee.Classifier.smileRandomForest(numTrees) \\\n",
    "    .train(\n",
    "        features=training,\n",
    "        classProperty='landcover',\n",
    "        inputProperties=composite.bandNames()\n",
    "    )\n",
    "\n",
    "  # Here we are classifying a table instead of an image\n",
    "  # Classifiers work on both images and tables\n",
    "    return test \\\n",
    "    .classify(classifier) \\\n",
    "    .errorMatrix('landcover', 'classification') \\\n",
    "    .accuracy()\n",
    "\n",
    "accuracies = numTreesList.map(func_tree)\n",
    "\n",
    "# Tuning Multiple Parameters\n",
    "# We can tune many parameters together using\n",
    "# nested map() functions\n",
    "# Let's tune 2 parameters\n",
    "# numTrees and bagFraction\n",
    "numTreesList = ee.List.sequence(10, 150, 10)\n",
    "bagFractionList = ee.List.sequence(0.1, 0.9, 0.1)\n",
    "\n",
    "def func_trees(numTrees):\n",
    "    def func_bag(bagFraction):\n",
    "        classifier = ee.Classifier.smileRandomForest(\n",
    "           numberOfTrees=numTrees,\n",
    "           bagFraction=bagFraction\n",
    "        ) \\\n",
    "        .train(\n",
    "            features=training,\n",
    "            classProperty='landcover',\n",
    "            inputProperties=composite.bandNames()\n",
    "        )\n",
    "\n",
    "        # Here we are classifying a table instead of an image\n",
    "        # Classifiers work on both images and tables\n",
    "        accuracy = test \\\n",
    "          .classify(classifier) \\\n",
    "          .errorMatrix('landcover', 'classification') \\\n",
    "          .accuracy()\n",
    "        return ee.Feature(None, {'accuracy': accuracy,\n",
    "          'numberOfTrees': numTrees,\n",
    "          'bagFraction': bagFraction})\n",
    "    return bagFractionList.map(func_bag)\n",
    "    \n",
    "\n",
    "accuracies = numTreesList.map(func_trees).flatten()\n",
    "resultFc = ee.FeatureCollection(accuracies)\n",
    "\n",
    "# Export the result as CSV if you wish\n",
    "\n",
    "Map"
   ]
  },
  {
   "cell_type": "code",
   "execution_count": 3,
   "id": "921dd14d-fdbd-44b2-9d4c-4011603ed59d",
   "metadata": {},
   "outputs": [],
   "source": [
    "# Create a FeatureCollection so we can chart it\n",
    "importanceFc = ee.FeatureCollection([\n",
    "  ee.Feature(None, relativeImportance)\n",
    "])"
   ]
  },
  {
   "cell_type": "code",
   "execution_count": 4,
   "id": "44b86626-0284-4bd2-a5ba-6bf9fe183f74",
   "metadata": {},
   "outputs": [
    {
     "data": {
      "text/plain": [
       "ee.featurecollection.FeatureCollection"
      ]
     },
     "execution_count": 4,
     "metadata": {},
     "output_type": "execute_result"
    }
   ],
   "source": [
    "type(importanceFc)"
   ]
  },
  {
   "cell_type": "code",
   "execution_count": null,
   "id": "fcb8597c-fc3f-4331-ab57-2b57f615a1e1",
   "metadata": {},
   "outputs": [],
   "source": [
    "df = geemap.ee_to_pandas(importanceFc)"
   ]
  },
  {
   "cell_type": "code",
   "execution_count": 17,
   "id": "5f97c4f2-4a33-47d0-8757-3f65bbf91012",
   "metadata": {},
   "outputs": [],
   "source": [
    "#simple bar graph displaying importance of each band\n",
    "#code to base graph on in future\n",
    "#chart = ui.Chart.feature.byProperty({\n",
    "#  'features': importanceFc\n",
    "#}).setOptions({\n",
    "#      'title': 'Feature Importance',\n",
    "#      'vAxis': '{title': 'Importance'},\n",
    "#      'hAxis': '{title': 'Feature'}\n",
    "#  })\n",
    "#print(chart)"
   ]
  },
  {
   "cell_type": "code",
   "execution_count": 11,
   "id": "459bd9fd-c6ed-427c-9694-882d36347849",
   "metadata": {},
   "outputs": [
    {
     "data": {
      "text/plain": [
       "ee.ee_list.List"
      ]
     },
     "execution_count": 11,
     "metadata": {},
     "output_type": "execute_result"
    }
   ],
   "source": [
    "accuracies = numTreesList.map(func_tree)"
   ]
  },
  {
   "cell_type": "code",
   "execution_count": 13,
   "id": "2ccc3acc-25eb-457d-8235-a5a06c7fd24c",
   "metadata": {},
   "outputs": [],
   "source": [
    "accuracy = accuracies.getInfo()"
   ]
  },
  {
   "cell_type": "code",
   "execution_count": 15,
   "id": "519d50e4-fbe4-4734-b743-70022317a9df",
   "metadata": {},
   "outputs": [],
   "source": [
    "import pandas as pd\n",
    "data = pd.DataFrame(accuracy)"
   ]
  },
  {
   "cell_type": "code",
   "execution_count": 22,
   "id": "6c200158-e5e1-48da-815a-cbeedc3ac7ff",
   "metadata": {},
   "outputs": [],
   "source": [
    "#simple graph displaying accuracy in relation to number of trees (every ten)\n",
    "#either add in new column which will be x, 15 rows that 10 step up to 150, or just make that set at time of graphing\n",
    "#code to base graph on in future\n",
    "#var chart = ui.Chart.array.values({\n",
    "  #array: ee.Array(accuracies),\n",
    "  #axis: 0,\n",
    "  #xLabels: numTreesList\n",
    "  #}).setOptions({\n",
    "  #    title: 'Hyperparameter Tuning for the numberOfTrees Parameters',\n",
    "  #    vAxis: {title: 'Validation Accuracy'},\n",
    "  #    hAxis: {title: 'Number of Tress', gridlines: {count: 15}}\n",
    "  #});\n",
    "#print(chart)"
   ]
  },
  {
   "cell_type": "code",
   "execution_count": 18,
   "id": "9d5f5d2f-ffe0-4010-b582-cf4bc90b2814",
   "metadata": {},
   "outputs": [],
   "source": []
  }
 ],
 "metadata": {
  "kernelspec": {
   "display_name": "Python 3 (ipykernel)",
   "language": "python",
   "name": "python3"
  },
  "language_info": {
   "codemirror_mode": {
    "name": "ipython",
    "version": 3
   },
   "file_extension": ".py",
   "mimetype": "text/x-python",
   "name": "python",
   "nbconvert_exporter": "python",
   "pygments_lexer": "ipython3",
   "version": "3.10.4"
  }
 },
 "nbformat": 4,
 "nbformat_minor": 5
}
