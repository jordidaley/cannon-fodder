{
 "cells": [
  {
   "cell_type": "code",
   "execution_count": 135,
   "id": "06b549de-691d-411d-9ebb-b63401f18609",
   "metadata": {},
   "outputs": [],
   "source": [
    "import ee\n",
    "import geemap\n",
    "import collections\n",
    "collections.Callable = collections.abc.Callable\n",
    "ee.Initialize()"
   ]
  },
  {
   "cell_type": "code",
   "execution_count": 12,
   "id": "c4df3c54-514e-479f-95b0-6dafa571037e",
   "metadata": {},
   "outputs": [
    {
     "name": "stdout",
     "output_type": "stream",
     "text": [
      "2\n",
      "[2, 3, 4, 5, 6, 7, 8, 9, 10, 11]\n",
      "1\n",
      "2\n",
      "Bengaluru\n",
      "2020-1-1\n"
     ]
    }
   ],
   "source": [
    "# Let's see how to take a list of numbers and add 1 to each element\n",
    "myList = ee.List.sequence(1, 10)\n",
    "\n",
    "# Define a function that takes a number and adds 1 to it\n",
    "def myFunction(number):\n",
    "  return number + 1\n",
    "\n",
    "print(myFunction(1))\n",
    "\n",
    "#Re-Define a function using Earth Engine API\n",
    "def myFunction(number):\n",
    "  return ee.Number(number).add(1)\n",
    "\n",
    "# Map the function of the list\n",
    "newList = myList.map(myFunction)\n",
    "print(newList.getInfo())\n",
    "\n",
    "# Extracting value from a list\n",
    "\n",
    "value = myList.get(0)\n",
    "print(value.getInfo())\n",
    "\n",
    "# Casting\n",
    "\n",
    "# Let's try to do some computation on the extracted value\n",
    "#newValue = value.add(1)\n",
    "#print(newValue)\n",
    "\n",
    "# You get an error because Earth Engine doesn't know what is the type of 'value'\n",
    "# We need to cast it to appropriate type first\n",
    "value = ee.Number(value)\n",
    "newValue = value.add(1)\n",
    "print(newValue.getInfo())\n",
    "\n",
    "# Dictionary\n",
    "# Convert javascript objects to EE Objects\n",
    "data = {'city': 'Bengaluru', 'population': 8400000, 'elevation': 930}\n",
    "eeData = ee.Dictionary(data)\n",
    "# Once converted, you can use the methods from the\n",
    "# ee.Dictionary module\n",
    "print(eeData.get('city').getInfo())\n",
    "\n",
    "# Dates\n",
    "# For any date computation, you should use ee.Date module\n",
    "\n",
    "date = ee.Date('2019-01-01')\n",
    "futureDate = date.advance(1, 'year')\n",
    "print(futureDate.format('Y-M-d').getInfo())"
   ]
  },
  {
   "cell_type": "code",
   "execution_count": 22,
   "id": "43a00df5-041c-4e8f-83ac-6199be40c997",
   "metadata": {},
   "outputs": [
    {
     "data": {
      "application/vnd.jupyter.widget-view+json": {
       "model_id": "d5af9dbe79a042c6a6b981c29d88832a",
       "version_major": 2,
       "version_minor": 0
      },
      "text/plain": [
       "Map(center=[12.952912912328241, 77.60412933051538], controls=(WidgetControl(options=['position', 'transparent_…"
      ]
     },
     "metadata": {},
     "output_type": "display_data"
    }
   ],
   "source": [
    "import datetime\n",
    "Map = geemap.Map()\n",
    "\n",
    "s2 = ee.ImageCollection(\"COPERNICUS/S2\")\n",
    "geometry = ee.Geometry.Point([77.60412933051538, 12.952912912328241])\n",
    "\n",
    "now = ee.Date(datetime.datetime.now().timestamp()*1000)\n",
    "now = ee.Date(now)\n",
    "past = now.advance(-1, 'month')\n",
    "# Apply another filter to the collection below to filter images\n",
    "# collected in the last 1-month\n",
    "# Do not hard-code the dates, it should always show images\n",
    "# from the past 1-month whenever you run the script\n",
    "# Hint: Use ee.Date.advance() function\n",
    "#   to compute the date 1 month before now\n",
    "filtered = s2.filter(ee.Filter.lt('CLOUDY_PIXEL_PERCENTAGE', 30)) \\\n",
    "  .filter(ee.Filter.bounds(geometry))  \\\n",
    "  .filter(ee.Filter.date(past, now))\n",
    "\n",
    "Map.centerObject(geometry, 10)\n",
    "\n",
    "rgbVis = {\n",
    "  'min': 0.0,\n",
    "  'max': 3000,\n",
    "  'bands': ['B4', 'B3', 'B2'],\n",
    "}\n",
    "\n",
    "mean = filtered.mean()\n",
    "Map.addLayer(mean, rgbVis, 'last month mean')\n",
    "Map"
   ]
  },
  {
   "cell_type": "code",
   "execution_count": 46,
   "id": "5e73b2a9-19f5-4f55-9667-a999cfd147c0",
   "metadata": {},
   "outputs": [
    {
     "data": {
      "application/vnd.jupyter.widget-view+json": {
       "model_id": "84a60f047bd54df1b3604d0996c09f80",
       "version_major": 2,
       "version_minor": 0
      },
      "text/plain": [
       "Map(center=[12.942208526432207, 77.5868323785926], controls=(WidgetControl(options=['position', 'transparent_b…"
      ]
     },
     "metadata": {},
     "output_type": "display_data"
    }
   ],
   "source": [
    "Map = geemap.Map()\n",
    "\n",
    "s2 = ee.ImageCollection(\"COPERNICUS/S2\")\n",
    "admin2 = ee.FeatureCollection(\"FAO/GAUL_SIMPLIFIED_500m/2015/level2\")\n",
    "\n",
    "bangalore = admin2.filter(ee.Filter.eq('ADM2_NAME', 'Bangalore Urban'))\n",
    "geometry = bangalore.geometry()\n",
    "\n",
    "filtered = s2.filter(ee.Filter.lt('CLOUDY_PIXEL_PERCENTAGE', 30)) \\\n",
    "  .filter(ee.Filter.date('2019-01-01', '2020-01-01')) \\\n",
    "  .filter(ee.Filter.bounds(geometry))\n",
    "\n",
    "image = filtered.median()\n",
    "\n",
    "# Calculate  Normalized Difference Vegetation Index (NDVI)\n",
    "# 'NIR' (B8) and 'RED' (B4)\n",
    "ndvi = image.normalizedDifference(['B8', 'B4']).rename(['ndvi'])\n",
    "\n",
    "# Calculate Modified Normalized Difference Water Index (MNDWI)\n",
    "# 'GREEN' (B3) and 'SWIR1' (B11)\n",
    "mndwi = image.normalizedDifference(['B3', 'B11']).rename(['mndwi'])\n",
    "\n",
    "# Calculate Soil-adjusted Vegetation Index (SAVI)\n",
    "# 1.5 * ((NIR - RED) / (NIR + RED + 0.5))\n",
    "\n",
    "# For more complex indices, you can use the expression() function\n",
    "\n",
    "# Note:\n",
    "# For the SAVI formula, the pixel values need to converted to reflectances\n",
    "# Multiplyng the pixel values by 'scale' gives us the reflectance value\n",
    "# The scale value is 0.0001 for Sentinel-2 dataset\n",
    "\n",
    "savi = image.expression(\n",
    "    '1.5 * ((NIR - RED) / (NIR + RED + 0.5))', {\n",
    "      'NIR': image.select('B8').multiply(0.0001),\n",
    "      'RED': image.select('B4').multiply(0.0001),\n",
    "}).rename('savi')\n",
    "\n",
    "rgbVis = {'min': 0.0, 'max': 3000, 'bands': ['B4', 'B3', 'B2']}\n",
    "ndviVis = {'min':0, 'max':1, 'palette': ['white', 'green']}\n",
    "ndwiVis = {'min':0, 'max':0.5, 'palette': ['white', 'blue']}\n",
    "\n",
    "Map.addLayer(image.clip(geometry), rgbVis, 'Image')\n",
    "Map.addLayer(mndwi.clip(geometry), ndwiVis, 'mndwi')\n",
    "Map.addLayer(savi.clip(geometry), ndviVis, 'savi')\n",
    "Map.addLayer(ndvi.clip(geometry), ndviVis, 'ndvi')\n",
    "Map.centerObject(geometry, 10)\n",
    "Map"
   ]
  },
  {
   "cell_type": "code",
   "execution_count": 53,
   "id": "309a2091-ad3c-408f-8360-4d8dd481e477",
   "metadata": {},
   "outputs": [
    {
     "data": {
      "application/vnd.jupyter.widget-view+json": {
       "model_id": "b356a7beea6f4a508b755383759e5aee",
       "version_major": 2,
       "version_minor": 0
      },
      "text/plain": [
       "Map(center=[12.942208526432207, 77.5868323785926], controls=(WidgetControl(options=['position', 'transparent_b…"
      ]
     },
     "metadata": {},
     "output_type": "display_data"
    }
   ],
   "source": [
    "Map = geemap.Map()\n",
    "\n",
    "s2 = ee.ImageCollection(\"COPERNICUS/S2\")\n",
    "admin2 = ee.FeatureCollection(\"FAO/GAUL_SIMPLIFIED_500m/2015/level2\")\n",
    "\n",
    "bangalore = admin2.filter(ee.Filter.eq('ADM2_NAME', 'Bangalore Urban'))\n",
    "geometry = bangalore.geometry()\n",
    "Map.centerObject(geometry)\n",
    "\n",
    "filtered = s2.filter(ee.Filter.lt('CLOUDY_PIXEL_PERCENTAGE', 30)) \\\n",
    "  .filter(ee.Filter.date('2019-01-01', '2020-01-01')) \\\n",
    "  .filter(ee.Filter.bounds(geometry))\n",
    "\n",
    "image = filtered.median()\n",
    "\n",
    "# Exercise\n",
    "\n",
    "# Calculate the Normalized Difference Built-Up Index (NDBI) for the image\n",
    "# Hint: NDBI = (SWIR1 – NIR) / (SWIR1 + NIR)\n",
    "# Visualize the built-up area using a 'red' palette\n",
    "\n",
    "ndbi = image.expression('(SWIR1 - NIR) / (SWIR1 + NIR)', {\n",
    "    'SWIR1': image.select('B11'),\n",
    "    'NIR'  : image.select('B8')}).rename(['NDBI'])\n",
    "\n",
    "\n",
    "ndbiVis = {'min':0, 'max':0.5, 'palette': ['white', 'red']}\n",
    "\n",
    "Map.addLayer(ndbi.clip(geometry), ndbiVis, 'ndbi')\n",
    "\n",
    "Map.centerObject(geometry, 10)\n",
    "\n",
    "Map"
   ]
  },
  {
   "cell_type": "code",
   "execution_count": 3,
   "id": "0e9aa740-9149-4fe0-b041-14e9068ba0c6",
   "metadata": {},
   "outputs": [
    {
     "data": {
      "application/vnd.jupyter.widget-view+json": {
       "model_id": "6344cc5d2b5643fab905d7f4872bc9f7",
       "version_major": 2,
       "version_minor": 0
      },
      "text/plain": [
       "Map(center=[14.694674204375684, 76.16771888608214], controls=(WidgetControl(options=['position', 'transparent_…"
      ]
     },
     "metadata": {},
     "output_type": "display_data"
    }
   ],
   "source": [
    "Map = geemap.Map()\n",
    "\n",
    "s2 = ee.ImageCollection(\"COPERNICUS/S2\")\n",
    "admin1 = ee.FeatureCollection(\"FAO/GAUL_SIMPLIFIED_500m/2015/level1\")\n",
    "\n",
    "karnataka = admin1.filter(ee.Filter.eq('ADM1_NAME', 'Karnataka'))\n",
    "geometry = karnataka.geometry()\n",
    "rgbVis = {'min': 0.0, 'max': 3000, 'bands': ['B4', 'B3', 'B2']}\n",
    "\n",
    "filtered = s2.filter(ee.Filter.lt('CLOUDY_PIXEL_PERCENTAGE', 30)) \\\n",
    "  .filter(ee.Filter.date('2019-01-01', '2020-01-01')) \\\n",
    "  .filter(ee.Filter.bounds(geometry))\n",
    "\n",
    "composite = filtered.median().clip(geometry)\n",
    "Map.addLayer(composite, rgbVis, 'Karnataka Composite')\n",
    "\n",
    "# Write a function that computes NDVI for an image and adds it as a band\n",
    "def addNDVI(image):\n",
    "  ndvi = image.normalizedDifference(['B8', 'B4']).rename('ndvi')\n",
    "  return image.addBands(ndvi)\n",
    "\n",
    "# Map the function over the collection\n",
    "withNdvi = filtered.map(addNDVI)\n",
    "\n",
    "composite = withNdvi.median()\n",
    "\n",
    "ndviComposite = composite.select('ndvi').clip(karnataka)\n",
    "\n",
    "palette = [\n",
    "  'FFFFFF', 'CE7E45', 'DF923D', 'F1B555', 'FCD163', '99B718',\n",
    "  '74A901', '66A000', '529400', '3E8601', '207401', '056201',\n",
    "  '004C00', '023B01', '012E01', '011D01', '011301']\n",
    "\n",
    "ndviVis = {'min':0, 'max':0.5, 'palette': palette }\n",
    "Map.addLayer(ndviComposite, ndviVis, 'ndvi')\n",
    "Map.centerObject(geometry, 6)\n",
    "Map"
   ]
  },
  {
   "cell_type": "code",
   "execution_count": 12,
   "id": "b5748b80-2950-4328-b02e-d61556b2dc28",
   "metadata": {},
   "outputs": [
    {
     "data": {
      "application/vnd.jupyter.widget-view+json": {
       "model_id": "1af915f6caeb4065a29b830e611956b4",
       "version_major": 2,
       "version_minor": 0
      },
      "text/plain": [
       "Map(center=[14.694674204375684, 76.16771888608214], controls=(WidgetControl(options=['position', 'transparent_…"
      ]
     },
     "metadata": {},
     "output_type": "display_data"
    }
   ],
   "source": [
    "Map = geemap.Map()\n",
    "\n",
    "s2 = ee.ImageCollection(\"COPERNICUS/S2\")\n",
    "admin1 = ee.FeatureCollection(\"FAO/GAUL_SIMPLIFIED_500m/2015/level1\")\n",
    "\n",
    "karnataka = admin1.filter(ee.Filter.eq('ADM1_NAME', 'Karnataka'))\n",
    "geometry = karnataka.geometry()\n",
    "rgbVis = {'min': 0.0, 'max': 3000, 'bands': ['B4', 'B3', 'B2']}\n",
    "\n",
    "filtered = s2.filter(ee.Filter.lt('CLOUDY_PIXEL_PERCENTAGE', 30)) \\\n",
    "  .filter(ee.Filter.date('2019-01-01', '2020-01-01')) \\\n",
    "  .filter(ee.Filter.bounds(geometry))\n",
    "\n",
    "composite = filtered.median().clip(geometry)\n",
    "Map.addLayer(composite, rgbVis, 'Karnataka Composite')\n",
    "\n",
    "# This function calculates both NDVI an d NDWI indices\n",
    "# and returns an image with 2 new bands added to the original image.\n",
    "def addIndices(image):\n",
    "    ndvi = image.normalizedDifference(['B8', 'B4']).rename('ndvi')\n",
    "    ndwi = image.normalizedDifference(['B3', 'B8']).rename('ndwi')\n",
    "    return image.addBands(ndvi).addBands(ndwi)\n",
    "\n",
    "# Map the function over the collection\n",
    "withIndices = filtered.map(addIndices)\n",
    "\n",
    "# Composite\n",
    "composite = withIndices.median()\n",
    "ndwiComposite = composite.select('ndwi').clip(karnataka)\n",
    "\n",
    "palette = ['white', 'blue']\n",
    "\n",
    "ndwiVis = {'min':0, 'max':.5, 'palette': palette }\n",
    "Map.addLayer(ndwiComposite, ndwiVis, 'ndwi')\n",
    "\n",
    "# Extract the 'ndwi' band and display a NDWI map\n",
    "# use the palette ['white', 'blue']\n",
    "# Hint: Use .select() function to select a band\n",
    "Map.centerObject(geometry, 6)\n",
    "Map"
   ]
  },
  {
   "cell_type": "code",
   "execution_count": 22,
   "id": "bd9af12a-2857-4b91-a29f-a75e2ff43bb9",
   "metadata": {},
   "outputs": [
    {
     "data": {
      "application/vnd.jupyter.widget-view+json": {
       "model_id": "afd9a8c388984ef69218ef622fa56fe6",
       "version_major": 2,
       "version_minor": 0
      },
      "text/plain": [
       "Map(center=[20, 0], controls=(WidgetControl(options=['position', 'transparent_bg'], widget=HBox(children=(Togg…"
      ]
     },
     "metadata": {},
     "output_type": "display_data"
    }
   ],
   "source": [
    "Map = geemap.Map()\n",
    "\n",
    "image = ee.Image('COPERNICUS/S2/20190703T050701_20190703T052312_T43PGP')\n",
    "rgbVis = {\n",
    "  'min': 0.0,\n",
    "  'max': 3000,\n",
    "  'bands': ['B4', 'B3', 'B2'],\n",
    "}\n",
    "\n",
    "Map.centerObject(image)\n",
    "Map.addLayer(image, rgbVis, 'Full Image', False)\n",
    "\n",
    "# Write a function for Cloud masking\n",
    "def maskS2clouds(image):\n",
    "    qa = image.select('QA60')\n",
    "    cloudBitMask = 1 << 10\n",
    "    cirrusBitMask = 1 << 11\n",
    "    mask = qa.bitwiseAnd(cloudBitMask).eq(0).And( \n",
    "        qa.bitwiseAnd(cirrusBitMask).eq(0))\n",
    "    return image.updateMask(mask) \\\n",
    "      .select(\"B.*\") \\\n",
    "      .copyProperties(image, [\"system:time_start\"])\n",
    "\n",
    "maskedImage = ee.Image(maskS2clouds(image))\n",
    "Map.addLayer(maskedImage, rgbVis, 'Masked Image')\n",
    "Map"
   ]
  },
  {
   "cell_type": "code",
   "execution_count": 29,
   "id": "0f0298d7-94b9-44d8-94fb-4a1d5b0d75e3",
   "metadata": {},
   "outputs": [
    {
     "data": {
      "application/vnd.jupyter.widget-view+json": {
       "model_id": "f3e3d80dd186445fadcfc1bc3e97b04d",
       "version_major": 2,
       "version_minor": 0
      },
      "text/plain": [
       "Map(center=[20, 0], controls=(WidgetControl(options=['position', 'transparent_bg'], widget=HBox(children=(Togg…"
      ]
     },
     "metadata": {},
     "output_type": "display_data"
    }
   ],
   "source": [
    "Map = geemap.Map()\n",
    "\n",
    "# Get the Level-2A Surface Reflectance image\n",
    "imageSR = ee.Image('COPERNICUS/S2_SR/20190703T050701_20190703T052312_T43PGP')\n",
    "rgbVis = {\n",
    "  'min': 0.0,\n",
    "  'max': 3000,\n",
    "  'bands': ['B4', 'B3', 'B2'],\n",
    "}\n",
    "Map.centerObject(imageSR)\n",
    "Map.addLayer(imageSR, rgbVis, 'SR Image')\n",
    "\n",
    "# Function to remove cloud and snow pixels from Sentinel-2 SR image\n",
    "def maskCloudAndShadowsSR(imageSR):\n",
    "    cloudProb = imageSR.select('MSK_CLDPRB')\n",
    "    snowProb = imageSR.select('MSK_SNWPRB')\n",
    "    cloud = cloudProb.lt(5)\n",
    "    snow = snowProb.lt(5)\n",
    "    sclprob = imageSR.select(\"SCL\")\n",
    "    shadow = sclprob.eq(3); # 3 = cloud shadow\n",
    "    cirrus = sclprob.eq(10); # 10 = cirrus\n",
    "    # Cloud probability less than 5% or cloud shadow classification\n",
    "    mask = (cloud.And(snow)).And(cirrus.neq(1)).And(shadow.neq(1))\n",
    "    return imageSR.updateMask(mask)\n",
    "\n",
    "# Exercise\n",
    "# Apply the above cloud masking function to SR image\n",
    "# Add the masked image to the map\n",
    "\n",
    "maskedImage = ee.Image(maskCloudAndShadowsSR(imageSR))\n",
    "Map.addLayer(maskedImage, rgbVis, 'Masked Image')\n",
    "\n",
    "# Hint: After adding the masked image to the map, turn-off\n",
    "# the original image layer to see the result of the masking function\n",
    "Map"
   ]
  },
  {
   "cell_type": "code",
   "execution_count": 37,
   "id": "9b7ab763-54f1-4cdb-b39b-85ce0457cbcb",
   "metadata": {},
   "outputs": [
    {
     "name": "stdout",
     "output_type": "stream",
     "text": [
      "[1, 2, 3, 4, 5, 6, 7, 8, 9, 10]\n",
      "5.5\n",
      "90\n",
      "Reducer on Collection {'type': 'Image', 'bands': [{'id': 'B1_mean', 'data_type': {'type': 'PixelType', 'precision': 'double', 'min': 0, 'max': 65535}, 'crs': 'EPSG:4326', 'crs_transform': [1, 0, 0, 0, 1, 0]}, {'id': 'B2_mean', 'data_type': {'type': 'PixelType', 'precision': 'double', 'min': 0, 'max': 65535}, 'crs': 'EPSG:4326', 'crs_transform': [1, 0, 0, 0, 1, 0]}, {'id': 'B3_mean', 'data_type': {'type': 'PixelType', 'precision': 'double', 'min': 0, 'max': 65535}, 'crs': 'EPSG:4326', 'crs_transform': [1, 0, 0, 0, 1, 0]}, {'id': 'B4_mean', 'data_type': {'type': 'PixelType', 'precision': 'double', 'min': 0, 'max': 65535}, 'crs': 'EPSG:4326', 'crs_transform': [1, 0, 0, 0, 1, 0]}, {'id': 'B5_mean', 'data_type': {'type': 'PixelType', 'precision': 'double', 'min': 0, 'max': 65535}, 'crs': 'EPSG:4326', 'crs_transform': [1, 0, 0, 0, 1, 0]}, {'id': 'B6_mean', 'data_type': {'type': 'PixelType', 'precision': 'double', 'min': 0, 'max': 65535}, 'crs': 'EPSG:4326', 'crs_transform': [1, 0, 0, 0, 1, 0]}, {'id': 'B7_mean', 'data_type': {'type': 'PixelType', 'precision': 'double', 'min': 0, 'max': 65535}, 'crs': 'EPSG:4326', 'crs_transform': [1, 0, 0, 0, 1, 0]}, {'id': 'B8_mean', 'data_type': {'type': 'PixelType', 'precision': 'double', 'min': 0, 'max': 65535}, 'crs': 'EPSG:4326', 'crs_transform': [1, 0, 0, 0, 1, 0]}, {'id': 'B8A_mean', 'data_type': {'type': 'PixelType', 'precision': 'double', 'min': 0, 'max': 65535}, 'crs': 'EPSG:4326', 'crs_transform': [1, 0, 0, 0, 1, 0]}, {'id': 'B9_mean', 'data_type': {'type': 'PixelType', 'precision': 'double', 'min': 0, 'max': 65535}, 'crs': 'EPSG:4326', 'crs_transform': [1, 0, 0, 0, 1, 0]}, {'id': 'B10_mean', 'data_type': {'type': 'PixelType', 'precision': 'double', 'min': 0, 'max': 65535}, 'crs': 'EPSG:4326', 'crs_transform': [1, 0, 0, 0, 1, 0]}, {'id': 'B11_mean', 'data_type': {'type': 'PixelType', 'precision': 'double', 'min': 0, 'max': 65535}, 'crs': 'EPSG:4326', 'crs_transform': [1, 0, 0, 0, 1, 0]}, {'id': 'B12_mean', 'data_type': {'type': 'PixelType', 'precision': 'double', 'min': 0, 'max': 65535}, 'crs': 'EPSG:4326', 'crs_transform': [1, 0, 0, 0, 1, 0]}]}\n",
      "{'B1': 1232.1078293483356, 'B10': 7.8499765588373185, 'B11': 1211.213314580403, 'B12': 560.4913267698079, 'B2': 959.2437880918895, 'B3': 856.0890764181906, 'B4': 527.2372245663386, 'B5': 845.3614627285515, 'B6': 2655.7172995780593, 'B7': 3523.71870604782, 'B8': 3409.1233005157055, 'B8A': 3722.547116736991, 'B9': 1118.8030942334742, 'QA10': 0, 'QA20': 0, 'QA60': 0}\n",
      "Average value in B4 527.2372245663386\n"
     ]
    },
    {
     "data": {
      "application/vnd.jupyter.widget-view+json": {
       "model_id": "9212f4c4973a4d878c708ef49a032c4a",
       "version_major": 2,
       "version_minor": 0
      },
      "text/plain": [
       "Map(center=[20, 0], controls=(WidgetControl(options=['position', 'transparent_bg'], widget=HBox(children=(Togg…"
      ]
     },
     "metadata": {},
     "output_type": "display_data"
    }
   ],
   "source": [
    "Map = geemap.Map()\n",
    "\n",
    "# Computing stats on a list\n",
    "myList = ee.List.sequence(1, 10)\n",
    "print(myList.getInfo())\n",
    "\n",
    "# Use a reducer to compute min and max in the list\n",
    "mean = myList.reduce(ee.Reducer.mean())\n",
    "print(mean.getInfo())\n",
    "\n",
    "geometry = ee.Geometry.Polygon([[\n",
    "  [82.60642647743225, 27.16350437805251],\n",
    "  [82.60984897613525, 27.1618529901377],\n",
    "  [82.61088967323303, 27.163695288375266],\n",
    "  [82.60757446289062, 27.16517483230927]\n",
    "]])\n",
    "s2 = ee.ImageCollection(\"COPERNICUS/S2\")\n",
    "Map.centerObject(geometry)\n",
    "\n",
    "# Apply a reducer on a image collection\n",
    "filtered = s2.filter(ee.Filter.lt('CLOUDY_PIXEL_PERCENTAGE', 30)) \\\n",
    "  .filter(ee.Filter.date('2019-01-01', '2020-01-01')) \\\n",
    "  .filter(ee.Filter.bounds(geometry)) \\\n",
    "  .select('B.*')\n",
    "\n",
    "print(filtered.size().getInfo())\n",
    "collMean = filtered.reduce(ee.Reducer.mean())\n",
    "print('Reducer on Collection', collMean.getInfo())\n",
    "\n",
    "image = ee.Image('COPERNICUS/S2/20190223T050811_20190223T051829_T44RPR')\n",
    "rgbVis = {'min': 0.0, 'max': 3000, 'bands': ['B4', 'B3', 'B2']}\n",
    "Map.addLayer(image, rgbVis, 'Image')\n",
    "Map.addLayer(geometry, {'color': 'red'}, 'Farm')\n",
    "# If we want to compute the average value in each band,\n",
    "# we can use reduceRegion instead\n",
    "stats = image.reduceRegion(\n",
    "    reducer=ee.Reducer.mean(),\n",
    "    geometry=geometry,\n",
    "    scale=100,\n",
    "    maxPixels=1e10\n",
    ")\n",
    "print(stats.getInfo())\n",
    "\n",
    "# Result of reduceRegion is a dictionary.\n",
    "# We can extract the values using .get() function\n",
    "print('Average value in B4', stats.get('B4').getInfo())\n",
    "Map"
   ]
  },
  {
   "cell_type": "code",
   "execution_count": 39,
   "id": "c31749eb-5ffa-4898-a3a1-d179c174db05",
   "metadata": {},
   "outputs": [
    {
     "name": "stdout",
     "output_type": "stream",
     "text": [
      "Average value in NDVI 0.7315184853791582\n"
     ]
    },
    {
     "data": {
      "application/vnd.jupyter.widget-view+json": {
       "model_id": "eede2d0ffed843d3b884280f2dacd7c1",
       "version_major": 2,
       "version_minor": 0
      },
      "text/plain": [
       "Map(center=[20, 0], controls=(WidgetControl(options=['position', 'transparent_bg'], widget=HBox(children=(Togg…"
      ]
     },
     "metadata": {},
     "output_type": "display_data"
    }
   ],
   "source": [
    "Map = geemap.Map()\n",
    "\n",
    "geometry = ee.Geometry.Polygon([[\n",
    "  [82.60642647743225, 27.16350437805251],\n",
    "  [82.60984897613525, 27.1618529901377],\n",
    "  [82.61088967323303, 27.163695288375266],\n",
    "  [82.60757446289062, 27.16517483230927]\n",
    "]])\n",
    "\n",
    "rgbVis = {'min': 0.0, 'max': 3000, 'bands': ['B4', 'B3', 'B2']}\n",
    "image = ee.Image('COPERNICUS/S2/20190223T050811_20190223T051829_T44RPR')\n",
    "Map.addLayer(image, rgbVis, 'Image')\n",
    "Map.addLayer(geometry, {'color': 'red'}, 'Farm')\n",
    "Map.centerObject(geometry)\n",
    "\n",
    "ndvi = image.normalizedDifference(['B8', 'B4']).rename('ndvi')\n",
    "\n",
    "# Exercise\n",
    "# Compute the average NDVI for the farm from the given image\n",
    "# Hint: Use the reduceRegion() function\n",
    "stats = ndvi.reduceRegion(\n",
    "    reducer=ee.Reducer.mean(),\n",
    "    geometry=geometry,\n",
    "    scale=100,\n",
    "    maxPixels=1e10\n",
    ")\n",
    "print('Average value in NDVI', stats.get('ndvi').getInfo())\n",
    "Map"
   ]
  },
  {
   "cell_type": "code",
   "execution_count": 136,
   "id": "43f1dacd-2ddf-4df5-86d7-a8ce07f73289",
   "metadata": {},
   "outputs": [],
   "source": [
    "import datetime\n",
    "Map = geemap.Map()\n",
    "\n",
    "s2 = ee.ImageCollection(\"COPERNICUS/S2\")\n",
    "geometry = ee.Geometry.Polygon([[\n",
    "  [82.60642647743225, 27.16350437805251],\n",
    "  [82.60984897613525, 27.1618529901377],\n",
    "  [82.61088967323303, 27.163695288375266],\n",
    "  [82.60757446289062, 27.16517483230927]\n",
    "]])\n",
    "Map.addLayer(geometry, {'color': 'red'}, 'Farm')\n",
    "Map.centerObject(geometry)\n",
    "rgbVis = {'min': 0.0, 'max': 3000, 'bands': ['B4', 'B3', 'B2']}\n",
    "\n",
    "filtered = s2 \\\n",
    "  .filter(ee.Filter.date('2017-01-01', '2018-01-01')) \\\n",
    "  .filter(ee.Filter.lt('CLOUDY_PIXEL_PERCENTAGE', 30)) \\\n",
    "  .filter(ee.Filter.bounds(geometry))\n",
    "\n",
    "# Write a function for Cloud masking\n",
    "def maskS2clouds(image):\n",
    "    qa = image.select('QA60')\n",
    "    cloudBitMask = 1 << 10\n",
    "    cirrusBitMask = 1 << 11\n",
    "    mask = qa.bitwiseAnd(cloudBitMask).eq(0).And(\n",
    "             qa.bitwiseAnd(cirrusBitMask).eq(0))\n",
    "    return image.updateMask(mask) \\\n",
    "      .select(\"B.*\") \\\n",
    "      .copyProperties(image, [\"system:time_start\"])\n",
    "\n",
    "filtered = filtered.map(maskS2clouds)\n",
    "# Write a function that computes NDVI for an image and adds it as a band\n",
    "def addNDVI(image):\n",
    "    ndvi = image.normalizedDifference(['B8', 'B4']).rename('ndvi')\n",
    "    return image.addBands(ndvi)\n",
    "\n",
    "# Map the function over the collection\n",
    "withNdvi = filtered.map(addNDVI)"
   ]
  },
  {
   "cell_type": "code",
   "execution_count": 153,
   "id": "8571a7bf-2e72-4352-997d-6fc473937981",
   "metadata": {},
   "outputs": [],
   "source": [
    "def extract_data(image):\n",
    "    stats = image.reduceRegion(**{ \n",
    "        'reducer':ee.Reducer.mean(),\n",
    "        'geometry':geometry,\n",
    "        'scale':20\n",
    "    })\n",
    "    properties = {\n",
    "        'month': image.date(),\n",
    "        'ndvi': stats.get('ndvi')\n",
    "    }\n",
    "    return ee.Feature(None, properties)\n",
    "\n",
    "data = ee.FeatureCollection(withNdvi.map(extract_data))"
   ]
  },
  {
   "cell_type": "code",
   "execution_count": 154,
   "id": "a5c96d36-4306-40d4-812d-3b233fbbfe95",
   "metadata": {},
   "outputs": [
    {
     "name": "stdout",
     "output_type": "stream",
     "text": [
      "{'type': 'Feature', 'geometry': None, 'id': '20170114T051141_20170114T051336_T44RPR', 'properties': {'month': {'type': 'Date', 'value': 1484370816911}, 'ndvi': 0.42642375507253355}}\n"
     ]
    }
   ],
   "source": [
    "print(data.first().getInfo())"
   ]
  },
  {
   "cell_type": "code",
   "execution_count": 141,
   "id": "2bb0fcb2-98cc-4c15-9069-505ac9e67b87",
   "metadata": {},
   "outputs": [],
   "source": [
    "df = geemap.ee_to_pandas(data)"
   ]
  },
  {
   "cell_type": "code",
   "execution_count": 142,
   "id": "2be0fb33-19d4-4cb6-bb15-dea2837de997",
   "metadata": {},
   "outputs": [
    {
     "name": "stderr",
     "output_type": "stream",
     "text": [
      "/var/folders/v0/mczfyjnd3bb7356_x3gmplhw0000gn/T/ipykernel_97908/81101775.py:3: SettingWithCopyWarning: \n",
      "A value is trying to be set on a copy of a slice from a DataFrame\n",
      "\n",
      "See the caveats in the documentation: https://pandas.pydata.org/pandas-docs/stable/user_guide/indexing.html#returning-a-view-versus-a-copy\n",
      "  dft['month'][i] = datetime.date.fromtimestamp(df['month'][i]['value']/1000.0)\n"
     ]
    },
    {
     "data": {
      "text/plain": [
       "0     2017-01-13\n",
       "1     2017-01-23\n",
       "2     2017-02-02\n",
       "3     2017-02-09\n",
       "4     2017-02-22\n",
       "5     2017-03-01\n",
       "6     2017-03-21\n",
       "7     2017-04-03\n",
       "8     2017-04-10\n",
       "9     2017-04-23\n",
       "10    2017-05-13\n",
       "11    2017-05-20\n",
       "12    2017-06-02\n",
       "13    2017-06-09\n",
       "14    2017-06-22\n",
       "15    2017-07-12\n",
       "16    2017-09-05\n",
       "17    2017-09-10\n",
       "18    2017-09-12\n",
       "19    2017-09-25\n",
       "20    2017-10-07\n",
       "21    2017-10-15\n",
       "22    2017-10-27\n",
       "23    2017-11-04\n",
       "24    2017-11-09\n",
       "25    2017-11-16\n",
       "26    2017-11-21\n",
       "27    2017-11-24\n",
       "28    2017-11-29\n",
       "29    2017-12-01\n",
       "30    2017-12-06\n",
       "31    2017-12-14\n",
       "32    2017-12-21\n",
       "Name: month, dtype: object"
      ]
     },
     "execution_count": 142,
     "metadata": {},
     "output_type": "execute_result"
    }
   ],
   "source": [
    "dft = df\n",
    "for i in range(len(df['month'])):\n",
    "    dft['month'][i] = datetime.date.fromtimestamp(df['month'][i]['value']/1000.0)\n",
    "dft['month']"
   ]
  },
  {
   "cell_type": "code",
   "execution_count": 148,
   "id": "f13c2016-4414-477d-b547-a5fa75d75ed2",
   "metadata": {},
   "outputs": [],
   "source": [
    "dft.dropna(inplace=True)\n",
    "dft.reset_index(drop=True, inplace=True)"
   ]
  },
  {
   "cell_type": "code",
   "execution_count": 94,
   "id": "211332f5-b96f-45d5-bdf1-c1b36d0c8d55",
   "metadata": {},
   "outputs": [],
   "source": [
    "%matplotlib inline\n",
    "import matplotlib.pyplot as plt"
   ]
  },
  {
   "cell_type": "code",
   "execution_count": 149,
   "id": "f28180d9-d02d-42fc-a8d6-321431b4757b",
   "metadata": {},
   "outputs": [
    {
     "data": {
      "image/png": "[encoded data removed]",
      "text/plain": [
       "<Figure size 1440x720 with 1 Axes>"
      ]
     },
     "metadata": {
      "needs_background": "light"
     },
     "output_type": "display_data"
    }
   ],
   "source": [
    "fig, ax = plt.subplots()\n",
    "fig.set_size_inches(20,10)\n",
    "\n",
    "\n",
    "dft.plot(ax=ax,\n",
    "        title='NDVI Time Series',\n",
    "        x='month',\n",
    "        ylabel='NDVI',\n",
    "        kind='line',\n",
    "        color='blue')\n",
    "plt.tight_layout()\n"
   ]
  },
  {
   "cell_type": "code",
   "execution_count": 156,
   "id": "1a1eb96d-745c-48a5-a962-524999e97122",
   "metadata": {},
   "outputs": [
    {
     "name": "stderr",
     "output_type": "stream",
     "text": [
      "/var/folders/v0/mczfyjnd3bb7356_x3gmplhw0000gn/T/ipykernel_97908/2100958371.py:46: SettingWithCopyWarning: \n",
      "A value is trying to be set on a copy of a slice from a DataFrame\n",
      "\n",
      "See the caveats in the documentation: https://pandas.pydata.org/pandas-docs/stable/user_guide/indexing.html#returning-a-view-versus-a-copy\n",
      "  dft['month'][i] = datetime.date.fromtimestamp(df['month'][i]['value']/1000.0)\n"
     ]
    },
    {
     "data": {
      "image/png": "[encoded data removed]",
      "text/plain": [
       "<Figure size 1440x720 with 1 Axes>"
      ]
     },
     "metadata": {
      "needs_background": "light"
     },
     "output_type": "display_data"
    }
   ],
   "source": [
    "import datetime\n",
    "Map = geemap.Map()\n",
    "\n",
    "s2 = ee.ImageCollection(\"COPERNICUS/S2\")\n",
    "geometry = ee.Geometry.Polygon([[\n",
    "  [82.615, 27.157],\n",
    "  [82.618, 27.165],\n",
    "  [82.623, 27.161],\n",
    "  [82.621, 27.162]\n",
    "]])\n",
    "Map.addLayer(geometry, {'color': 'red'}, 'Farm')\n",
    "Map.centerObject(geometry)\n",
    "rgbVis = {'min': 0.0, 'max': 3000, 'bands': ['B4', 'B3', 'B2']}\n",
    "\n",
    "filtered = s2 \\\n",
    "  .filter(ee.Filter.date('2017-01-01', '2018-01-01')) \\\n",
    "  .filter(ee.Filter.lt('CLOUDY_PIXEL_PERCENTAGE', 30)) \\\n",
    "  .filter(ee.Filter.bounds(geometry))\n",
    "\n",
    "# Write a function for Cloud masking\n",
    "def maskS2clouds(image):\n",
    "    qa = image.select('QA60')\n",
    "    cloudBitMask = 1 << 10\n",
    "    cirrusBitMask = 1 << 11\n",
    "    mask = qa.bitwiseAnd(cloudBitMask).eq(0).And(\n",
    "             qa.bitwiseAnd(cirrusBitMask).eq(0))\n",
    "    return image.updateMask(mask) \\\n",
    "      .select(\"B.*\") \\\n",
    "      .copyProperties(image, [\"system:time_start\"])\n",
    "\n",
    "filtered = filtered.map(maskS2clouds)\n",
    "# Write a function that computes NDVI for an image and adds it as a band\n",
    "def addNDVI(image):\n",
    "    ndvi = image.normalizedDifference(['B8', 'B4']).rename('ndvi')\n",
    "    return image.addBands(ndvi)\n",
    "\n",
    "# Map the function over the collection\n",
    "withNdvi = filtered.map(addNDVI)\n",
    "\n",
    "data = ee.FeatureCollection(withNdvi.map(extract_data))\n",
    "\n",
    "df = geemap.ee_to_pandas(data)\n",
    "\n",
    "dft = df\n",
    "for i in range(len(df['month'])):\n",
    "    dft['month'][i] = datetime.date.fromtimestamp(df['month'][i]['value']/1000.0)\n",
    "\n",
    "dft.dropna(inplace=True)\n",
    "dft.reset_index(drop=True, inplace=True)\n",
    "\n",
    "fig, ax = plt.subplots()\n",
    "fig.set_size_inches(20,10)\n",
    "\n",
    "\n",
    "dft.plot(ax=ax,\n",
    "        title='NDVI Time Series',\n",
    "        x='month',\n",
    "        ylabel='NDVI',\n",
    "        kind='line',\n",
    "        color='blue')\n",
    "plt.tight_layout()"
   ]
  },
  {
   "cell_type": "code",
   "execution_count": null,
   "id": "f89def39-93a6-4fe9-940d-dd514763d207",
   "metadata": {},
   "outputs": [],
   "source": [
    "#import datetime\n",
    "\n",
    "#time = reduce.aggregate_array('system:time_start').getInfo()\n",
    "\n",
    "#dt_time = [datetime.datetime.fromtimestamp(x // 1000) for x in time]"
   ]
  }
 ],
 "metadata": {
  "kernelspec": {
   "display_name": "Python 3 (ipykernel)",
   "language": "python",
   "name": "python3"
  },
  "language_info": {
   "codemirror_mode": {
    "name": "ipython",
    "version": 3
   },
   "file_extension": ".py",
   "mimetype": "text/x-python",
   "name": "python",
   "nbconvert_exporter": "python",
   "pygments_lexer": "ipython3",
   "version": "3.10.4"
  }
 },
 "nbformat": 4,
 "nbformat_minor": 5
}
