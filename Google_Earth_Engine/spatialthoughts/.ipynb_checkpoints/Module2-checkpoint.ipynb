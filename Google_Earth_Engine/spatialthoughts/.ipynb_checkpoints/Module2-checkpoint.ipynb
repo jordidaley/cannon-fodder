{
 "cells": [
  {
   "cell_type": "code",
   "execution_count": 2,
   "id": "06b549de-691d-411d-9ebb-b63401f18609",
   "metadata": {},
   "outputs": [],
   "source": [
    "import ee\n",
    "import geemap\n",
    "import collections\n",
    "collections.Callable = collections.abc.Callable\n",
    "ee.Initialize()"
   ]
  },
  {
   "cell_type": "code",
   "execution_count": 12,
   "id": "c4df3c54-514e-479f-95b0-6dafa571037e",
   "metadata": {},
   "outputs": [
    {
     "name": "stdout",
     "output_type": "stream",
     "text": [
      "2\n",
      "[2, 3, 4, 5, 6, 7, 8, 9, 10, 11]\n",
      "1\n",
      "2\n",
      "Bengaluru\n",
      "2020-1-1\n"
     ]
    }
   ],
   "source": [
    "# Let's see how to take a list of numbers and add 1 to each element\n",
    "myList = ee.List.sequence(1, 10)\n",
    "\n",
    "# Define a function that takes a number and adds 1 to it\n",
    "def myFunction(number):\n",
    "  return number + 1\n",
    "\n",
    "print(myFunction(1))\n",
    "\n",
    "#Re-Define a function using Earth Engine API\n",
    "def myFunction(number):\n",
    "  return ee.Number(number).add(1)\n",
    "\n",
    "# Map the function of the list\n",
    "newList = myList.map(myFunction)\n",
    "print(newList.getInfo())\n",
    "\n",
    "# Extracting value from a list\n",
    "\n",
    "value = myList.get(0)\n",
    "print(value.getInfo())\n",
    "\n",
    "# Casting\n",
    "\n",
    "# Let's try to do some computation on the extracted value\n",
    "#newValue = value.add(1)\n",
    "#print(newValue)\n",
    "\n",
    "# You get an error because Earth Engine doesn't know what is the type of 'value'\n",
    "# We need to cast it to appropriate type first\n",
    "value = ee.Number(value)\n",
    "newValue = value.add(1)\n",
    "print(newValue.getInfo())\n",
    "\n",
    "# Dictionary\n",
    "# Convert javascript objects to EE Objects\n",
    "data = {'city': 'Bengaluru', 'population': 8400000, 'elevation': 930}\n",
    "eeData = ee.Dictionary(data)\n",
    "# Once converted, you can use the methods from the\n",
    "# ee.Dictionary module\n",
    "print(eeData.get('city').getInfo())\n",
    "\n",
    "# Dates\n",
    "# For any date computation, you should use ee.Date module\n",
    "\n",
    "date = ee.Date('2019-01-01')\n",
    "futureDate = date.advance(1, 'year')\n",
    "print(futureDate.format('Y-M-d').getInfo())"
   ]
  },
  {
   "cell_type": "code",
   "execution_count": 22,
   "id": "43a00df5-041c-4e8f-83ac-6199be40c997",
   "metadata": {},
   "outputs": [
    {
     "data": {
      "application/vnd.jupyter.widget-view+json": {
       "model_id": "d5af9dbe79a042c6a6b981c29d88832a",
       "version_major": 2,
       "version_minor": 0
      },
      "text/plain": [
       "Map(center=[12.952912912328241, 77.60412933051538], controls=(WidgetControl(options=['position', 'transparent_…"
      ]
     },
     "metadata": {},
     "output_type": "display_data"
    }
   ],
   "source": [
    "import datetime\n",
    "Map = geemap.Map()\n",
    "\n",
    "s2 = ee.ImageCollection(\"COPERNICUS/S2\")\n",
    "geometry = ee.Geometry.Point([77.60412933051538, 12.952912912328241])\n",
    "\n",
    "now = ee.Date(datetime.datetime.now().timestamp()*1000)\n",
    "now = ee.Date(now)\n",
    "past = now.advance(-1, 'month')\n",
    "# Apply another filter to the collection below to filter images\n",
    "# collected in the last 1-month\n",
    "# Do not hard-code the dates, it should always show images\n",
    "# from the past 1-month whenever you run the script\n",
    "# Hint: Use ee.Date.advance() function\n",
    "#   to compute the date 1 month before now\n",
    "filtered = s2.filter(ee.Filter.lt('CLOUDY_PIXEL_PERCENTAGE', 30)) \\\n",
    "  .filter(ee.Filter.bounds(geometry))  \\\n",
    "  .filter(ee.Filter.date(past, now))\n",
    "\n",
    "Map.centerObject(geometry, 10)\n",
    "\n",
    "rgbVis = {\n",
    "  'min': 0.0,\n",
    "  'max': 3000,\n",
    "  'bands': ['B4', 'B3', 'B2'],\n",
    "}\n",
    "\n",
    "mean = filtered.mean()\n",
    "Map.addLayer(mean, rgbVis, 'last month mean')\n",
    "Map"
   ]
  },
  {
   "cell_type": "code",
   "execution_count": 46,
   "id": "5e73b2a9-19f5-4f55-9667-a999cfd147c0",
   "metadata": {},
   "outputs": [
    {
     "data": {
      "application/vnd.jupyter.widget-view+json": {
       "model_id": "84a60f047bd54df1b3604d0996c09f80",
       "version_major": 2,
       "version_minor": 0
      },
      "text/plain": [
       "Map(center=[12.942208526432207, 77.5868323785926], controls=(WidgetControl(options=['position', 'transparent_b…"
      ]
     },
     "metadata": {},
     "output_type": "display_data"
    }
   ],
   "source": [
    "Map = geemap.Map()\n",
    "\n",
    "s2 = ee.ImageCollection(\"COPERNICUS/S2\")\n",
    "admin2 = ee.FeatureCollection(\"FAO/GAUL_SIMPLIFIED_500m/2015/level2\")\n",
    "\n",
    "bangalore = admin2.filter(ee.Filter.eq('ADM2_NAME', 'Bangalore Urban'))\n",
    "geometry = bangalore.geometry()\n",
    "\n",
    "filtered = s2.filter(ee.Filter.lt('CLOUDY_PIXEL_PERCENTAGE', 30)) \\\n",
    "  .filter(ee.Filter.date('2019-01-01', '2020-01-01')) \\\n",
    "  .filter(ee.Filter.bounds(geometry))\n",
    "\n",
    "image = filtered.median()\n",
    "\n",
    "# Calculate  Normalized Difference Vegetation Index (NDVI)\n",
    "# 'NIR' (B8) and 'RED' (B4)\n",
    "ndvi = image.normalizedDifference(['B8', 'B4']).rename(['ndvi'])\n",
    "\n",
    "# Calculate Modified Normalized Difference Water Index (MNDWI)\n",
    "# 'GREEN' (B3) and 'SWIR1' (B11)\n",
    "mndwi = image.normalizedDifference(['B3', 'B11']).rename(['mndwi'])\n",
    "\n",
    "# Calculate Soil-adjusted Vegetation Index (SAVI)\n",
    "# 1.5 * ((NIR - RED) / (NIR + RED + 0.5))\n",
    "\n",
    "# For more complex indices, you can use the expression() function\n",
    "\n",
    "# Note:\n",
    "# For the SAVI formula, the pixel values need to converted to reflectances\n",
    "# Multiplyng the pixel values by 'scale' gives us the reflectance value\n",
    "# The scale value is 0.0001 for Sentinel-2 dataset\n",
    "\n",
    "savi = image.expression(\n",
    "    '1.5 * ((NIR - RED) / (NIR + RED + 0.5))', {\n",
    "      'NIR': image.select('B8').multiply(0.0001),\n",
    "      'RED': image.select('B4').multiply(0.0001),\n",
    "}).rename('savi')\n",
    "\n",
    "rgbVis = {'min': 0.0, 'max': 3000, 'bands': ['B4', 'B3', 'B2']}\n",
    "ndviVis = {'min':0, 'max':1, 'palette': ['white', 'green']}\n",
    "ndwiVis = {'min':0, 'max':0.5, 'palette': ['white', 'blue']}\n",
    "\n",
    "Map.addLayer(image.clip(geometry), rgbVis, 'Image')\n",
    "Map.addLayer(mndwi.clip(geometry), ndwiVis, 'mndwi')\n",
    "Map.addLayer(savi.clip(geometry), ndviVis, 'savi')\n",
    "Map.addLayer(ndvi.clip(geometry), ndviVis, 'ndvi')\n",
    "Map.centerObject(geometry, 10)\n",
    "Map"
   ]
  },
  {
   "cell_type": "code",
   "execution_count": 53,
   "id": "309a2091-ad3c-408f-8360-4d8dd481e477",
   "metadata": {},
   "outputs": [
    {
     "data": {
      "application/vnd.jupyter.widget-view+json": {
       "model_id": "b356a7beea6f4a508b755383759e5aee",
       "version_major": 2,
       "version_minor": 0
      },
      "text/plain": [
       "Map(center=[12.942208526432207, 77.5868323785926], controls=(WidgetControl(options=['position', 'transparent_b…"
      ]
     },
     "metadata": {},
     "output_type": "display_data"
    }
   ],
   "source": [
    "Map = geemap.Map()\n",
    "\n",
    "s2 = ee.ImageCollection(\"COPERNICUS/S2\")\n",
    "admin2 = ee.FeatureCollection(\"FAO/GAUL_SIMPLIFIED_500m/2015/level2\")\n",
    "\n",
    "bangalore = admin2.filter(ee.Filter.eq('ADM2_NAME', 'Bangalore Urban'))\n",
    "geometry = bangalore.geometry()\n",
    "Map.centerObject(geometry)\n",
    "\n",
    "filtered = s2.filter(ee.Filter.lt('CLOUDY_PIXEL_PERCENTAGE', 30)) \\\n",
    "  .filter(ee.Filter.date('2019-01-01', '2020-01-01')) \\\n",
    "  .filter(ee.Filter.bounds(geometry))\n",
    "\n",
    "image = filtered.median()\n",
    "\n",
    "# Exercise\n",
    "\n",
    "# Calculate the Normalized Difference Built-Up Index (NDBI) for the image\n",
    "# Hint: NDBI = (SWIR1 – NIR) / (SWIR1 + NIR)\n",
    "# Visualize the built-up area using a 'red' palette\n",
    "\n",
    "ndbi = image.expression('(SWIR1 - NIR) / (SWIR1 + NIR)', {\n",
    "    'SWIR1': image.select('B11'),\n",
    "    'NIR'  : image.select('B8')}).rename(['NDBI'])\n",
    "\n",
    "\n",
    "ndbiVis = {'min':0, 'max':0.5, 'palette': ['white', 'red']}\n",
    "\n",
    "Map.addLayer(ndbi.clip(geometry), ndbiVis, 'ndbi')\n",
    "\n",
    "Map.centerObject(geometry, 10)\n",
    "\n",
    "Map"
   ]
  },
  {
   "cell_type": "code",
   "execution_count": null,
   "id": "0e9aa740-9149-4fe0-b041-14e9068ba0c6",
   "metadata": {},
   "outputs": [],
   "source": []
  }
 ],
 "metadata": {
  "kernelspec": {
   "display_name": "Python 3 (ipykernel)",
   "language": "python",
   "name": "python3"
  },
  "language_info": {
   "codemirror_mode": {
    "name": "ipython",
    "version": 3
   },
   "file_extension": ".py",
   "mimetype": "text/x-python",
   "name": "python",
   "nbconvert_exporter": "python",
   "pygments_lexer": "ipython3",
   "version": "3.10.4"
  }
 },
 "nbformat": 4,
 "nbformat_minor": 5
}
