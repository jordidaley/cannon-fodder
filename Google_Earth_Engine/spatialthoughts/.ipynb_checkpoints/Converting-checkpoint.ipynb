{
 "cells": [
  {
   "cell_type": "code",
   "execution_count": 3,
   "id": "46043a14-e45c-4d2a-8435-4a0c5ac81e81",
   "metadata": {},
   "outputs": [],
   "source": [
    "import ee"
   ]
  },
  {
   "cell_type": "code",
   "execution_count": 4,
   "id": "7ac881a6-4151-4ff8-aec0-088da2460762",
   "metadata": {},
   "outputs": [],
   "source": [
    "import geemap"
   ]
  },
  {
   "cell_type": "code",
   "execution_count": 5,
   "id": "ad6781d4-3c0e-4c8b-ad45-fc65ddd0e05e",
   "metadata": {},
   "outputs": [],
   "source": [
    "import collections\n",
    "collections.Callable = collections.abc.Callable"
   ]
  },
  {
   "cell_type": "code",
   "execution_count": 6,
   "id": "aad9bf05-304e-4f2c-853f-9a8cc8460122",
   "metadata": {},
   "outputs": [],
   "source": [
    "ee.Initialize()"
   ]
  },
  {
   "cell_type": "code",
   "execution_count": 8,
   "id": "05ca2cc3-7409-46a7-91d9-fb94c88e04d6",
   "metadata": {},
   "outputs": [],
   "source": [
    "javascript_code = \"\"\"\n",
    "var s2 = ee.ImageCollection(\"COPERNICUS/S2\")\n",
    "var urban = ee.FeatureCollection(\"users/ujavalgandhi/e2e/ne_10m_urban_areas\")\n",
    "\n",
    "var filtered = urban.filter(ee.Filter.eq('system:index', '00000000000000002bf8'))\n",
    "var geometry = filtered.geometry()\n",
    "\n",
    "var rgbVis = {\n",
    "  min: 0.0,\n",
    "  max: 3000,\n",
    "  bands: ['B4', 'B3', 'B2'], \n",
    "};\n",
    "var filtered = s2.filter(ee.Filter.lt('CLOUDY_PIXEL_PERCENTAGE', 30))\n",
    "  .filter(ee.Filter.date('2019-01-01', '2020-01-01'))\n",
    "  .filter(ee.Filter.bounds(geometry))\n",
    "\n",
    "var image = filtered.median(); \n",
    "\n",
    "var clipped = image.clip(geometry)\n",
    "\n",
    "Map.addLayer(clipped, rgbVis, 'Clipped') \n",
    "\n",
    "var exportImage = clipped.select('B.*')\n",
    "\n",
    "Export.image.toDrive({\n",
    "    image: exportImage,\n",
    "    description: 'Bangalore_Composite_Raw',\n",
    "    folder: 'earthengine',\n",
    "    fileNamePrefix: 'bangalore_composite_raw',\n",
    "    region: geometry,\n",
    "    scale: 20,\n",
    "    maxPixels: 1e9\n",
    "})\n",
    "\n",
    "// Rather than exporting raw bands, we can apply a rendered image\n",
    "// visualize() function allows you to apply the same parameters \n",
    "// that are used in earth engine which exports a 3-band RGB image\n",
    "print(clipped)\n",
    "var visualized = clipped.visualize(rgbVis)\n",
    "print(visualized)\n",
    "// Now the 'visualized' image is RGB image, no need to give visParams\n",
    "Map.addLayer(visualized, {}, 'Visualized Image') \n",
    "\n",
    "Export.image.toDrive({\n",
    "    image: visualized,\n",
    "    description: 'Bangalore_Composite_Visualized',\n",
    "    folder: 'earthengine',\n",
    "    fileNamePrefix: 'bangalore_composite_visualized',\n",
    "    region: geometry,\n",
    "    scale: 20,\n",
    "    maxPixels: 1e9\n",
    "})\n",
    "\n",
    "\"\"\""
   ]
  },
  {
   "cell_type": "code",
   "execution_count": 9,
   "id": "cbad8229-208a-4ff8-928d-f6ce370d267a",
   "metadata": {},
   "outputs": [
    {
     "name": "stdout",
     "output_type": "stream",
     "text": [
      "import ee\n",
      "import geemap\n",
      "Map = geemap.Map()\n",
      "\n",
      "s2 = ee.ImageCollection(\"COPERNICUS/S2\")\n",
      "urban = ee.FeatureCollection(\"users/ujavalgandhi/e2e/ne_10m_urban_areas\")\n",
      "\n",
      "filtered = urban.filter(ee.Filter.eq('system:index', '00000000000000002bf8'))\n",
      "geometry = filtered.geometry()\n",
      "\n",
      "rgbVis = {\n",
      "  'min': 0.0,\n",
      "  'max': 3000,\n",
      "  'bands': ['B4', 'B3', 'B2'],\n",
      "}\n",
      "filtered = s2.filter(ee.Filter.lt('CLOUDY_PIXEL_PERCENTAGE', 30)) \\\n",
      "  .filter(ee.Filter.date('2019-01-01', '2020-01-01')) \\\n",
      "  .filter(ee.Filter.bounds(geometry))\n",
      "\n",
      "image = filtered.median()\n",
      "\n",
      "clipped = image.clip(geometry)\n",
      "\n",
      "Map.addLayer(clipped, rgbVis, 'Clipped')\n",
      "\n",
      "exportImage = clipped.select('B.*')\n",
      "\n",
      "Export.image.toDrive({\n",
      "    'image': exportImage,\n",
      "    'description': 'Bangalore_Composite_Raw',\n",
      "    'folder': 'earthengine',\n",
      "    'fileNamePrefix': 'bangalore_composite_raw',\n",
      "    'region': geometry,\n",
      "    'scale': 20,\n",
      "    'maxPixels': 1e9\n",
      "})\n",
      "\n",
      "# Rather than exporting raw bands, we can apply a rendered image\n",
      "# visualize() function allows you to apply the same parameters\n",
      "# that are used in earth engine which exports a 3-band RGB image\n",
      "print(clipped)\n",
      "visualized = clipped.visualize(rgbVis)\n",
      "print(visualized)\n",
      "# Now the 'visualized' image is RGB image, no need to give visParams\n",
      "Map.addLayer(visualized, {}, 'Visualized Image')\n",
      "\n",
      "Export.image.toDrive({\n",
      "    'image': visualized,\n",
      "    'description': 'Bangalore_Composite_Visualized',\n",
      "    'folder': 'earthengine',\n",
      "    'fileNamePrefix': 'bangalore_composite_visualized',\n",
      "    'region': geometry,\n",
      "    'scale': 20,\n",
      "    'maxPixels': 1e9\n",
      "})\n",
      "Map\n"
     ]
    }
   ],
   "source": [
    "lines = geemap.js_snippet_to_py(\n",
    "    javascript_code, add_new_cell=False,\n",
    "    import_ee=True, import_geemap=True, show_map=True)\n",
    "for line in lines:\n",
    "    print(line.rstrip())"
   ]
  },
  {
   "cell_type": "code",
   "execution_count": null,
   "id": "666eeb43-99db-47fd-a70d-cb563d11de70",
   "metadata": {},
   "outputs": [],
   "source": []
  }
 ],
 "metadata": {
  "kernelspec": {
   "display_name": "Python 3 (ipykernel)",
   "language": "python",
   "name": "python3"
  },
  "language_info": {
   "codemirror_mode": {
    "name": "ipython",
    "version": 3
   },
   "file_extension": ".py",
   "mimetype": "text/x-python",
   "name": "python",
   "nbconvert_exporter": "python",
   "pygments_lexer": "ipython3",
   "version": "3.10.4"
  }
 },
 "nbformat": 4,
 "nbformat_minor": 5
}
