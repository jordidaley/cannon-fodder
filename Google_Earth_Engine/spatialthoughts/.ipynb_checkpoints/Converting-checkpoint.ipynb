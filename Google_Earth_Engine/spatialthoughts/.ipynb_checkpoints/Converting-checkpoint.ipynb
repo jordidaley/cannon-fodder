{
 "cells": [
  {
   "cell_type": "code",
   "execution_count": 1,
   "id": "46043a14-e45c-4d2a-8435-4a0c5ac81e81",
   "metadata": {},
   "outputs": [],
   "source": [
    "import ee"
   ]
  },
  {
   "cell_type": "code",
   "execution_count": 2,
   "id": "7ac881a6-4151-4ff8-aec0-088da2460762",
   "metadata": {},
   "outputs": [],
   "source": [
    "import geemap"
   ]
  },
  {
   "cell_type": "code",
   "execution_count": 3,
   "id": "ad6781d4-3c0e-4c8b-ad45-fc65ddd0e05e",
   "metadata": {},
   "outputs": [],
   "source": [
    "import collections\n",
    "collections.Callable = collections.abc.Callable"
   ]
  },
  {
   "cell_type": "code",
   "execution_count": 4,
   "id": "aad9bf05-304e-4f2c-853f-9a8cc8460122",
   "metadata": {},
   "outputs": [],
   "source": [
    "ee.Initialize()"
   ]
  },
  {
   "cell_type": "code",
   "execution_count": 5,
   "id": "05ca2cc3-7409-46a7-91d9-fb94c88e04d6",
   "metadata": {},
   "outputs": [],
   "source": [
    "javascript_code = \"\"\"\n",
    "var terraclimate = ee.ImageCollection(\"IDAHO_EPSCOR/TERRACLIMATE\");\n",
    "var geometry = ee.Geometry.Point([77.54849920033682, 12.91215102400037]);\n",
    "    \n",
    "// Assignment\n",
    "// Use Gridded Climate dataset to chart a 40+ year time series\n",
    "// if temparature at any location\n",
    "\n",
    "\n",
    "// Workflow\n",
    "// Load the TerraClimate collection\n",
    "// Select the 'tmmx' band\n",
    "// Scale the band values\n",
    "// Filter the scaled collection\n",
    "// Use ui.Chart.image.series() function to create the chart\n",
    "\n",
    "\n",
    "// Hint1\n",
    "// Data needed to be scaled by 0.1\n",
    "// map() a function and multiply each image\n",
    "// Multiplying creates a new image that doesn't have the same properties\n",
    "// Use copyProperties() function to copy timestamp to new image\n",
    "var tmax = terraclimate.select('tmmx')\n",
    "var tmaxScaled = tmax.map(function(image) {\n",
    "  return image.multiply(0.1)\n",
    "    .copyProperties(image,['system:time_start']);\n",
    "})\n",
    "\n",
    "// Hint2\n",
    "// You will need to specify a scale in meters for charting\n",
    "// Use projection().nominalScale() to find the \n",
    "// image resolution in meters\n",
    "var image = ee.Image(terraclimate.first())\n",
    "print(image.projection().nominalScale())\n",
    "\n",
    "\"\"\""
   ]
  },
  {
   "cell_type": "code",
   "execution_count": 6,
   "id": "cbad8229-208a-4ff8-928d-f6ce370d267a",
   "metadata": {},
   "outputs": [
    {
     "name": "stdout",
     "output_type": "stream",
     "text": [
      "import ee\n",
      "import geemap\n",
      "Map = geemap.Map()\n",
      "\n",
      "terraclimate = ee.ImageCollection(\"IDAHO_EPSCOR/TERRACLIMATE\")\n",
      "geometry = ee.Geometry.Point([77.54849920033682, 12.91215102400037])\n",
      "\n",
      "# Assignment\n",
      "# Use Gridded Climate dataset to chart a 40+ year time series\n",
      "# if temparature at any location\n",
      "\n",
      "# Workflow\n",
      "# Load the TerraClimate collection\n",
      "# Select the 'tmmx' band\n",
      "# Scale the band values\n",
      "# Filter the scaled collection\n",
      "# Use ui.Chart.image.series() function to create the chart\n",
      "\n",
      "# Hint1\n",
      "# Data needed to be scaled by 0.1\n",
      "# map() a function and multiply each image\n",
      "# Multiplying creates a new image that doesn't have the same properties\n",
      "# Use copyProperties() function to copy timestamp to new image\n",
      "tmax = terraclimate.select('tmmx')\n",
      "\n",
      "def func_gdc(image):\n",
      "  return image.multiply(0.1) \\\n",
      "    .copyProperties(image,['system:time_start'])\n",
      "\n",
      "tmaxScaled = tmax.map(func_gdc)\n",
      "\n",
      "# Hint2\n",
      "# You will need to specify a scale in meters for charting\n",
      "# Use projection().nominalScale() to find the\n",
      "# image resolution in meters\n",
      "image = ee.Image(terraclimate.first())\n",
      "print(image.projection().nominalScale())\n",
      "Map\n"
     ]
    }
   ],
   "source": [
    "lines = geemap.js_snippet_to_py(\n",
    "    javascript_code, add_new_cell=False,\n",
    "    import_ee=True, import_geemap=True, show_map=True)\n",
    "for line in lines:\n",
    "    print(line.rstrip())"
   ]
  },
  {
   "cell_type": "code",
   "execution_count": null,
   "id": "666eeb43-99db-47fd-a70d-cb563d11de70",
   "metadata": {},
   "outputs": [],
   "source": []
  }
 ],
 "metadata": {
  "kernelspec": {
   "display_name": "Python 3 (ipykernel)",
   "language": "python",
   "name": "python3"
  },
  "language_info": {
   "codemirror_mode": {
    "name": "ipython",
    "version": 3
   },
   "file_extension": ".py",
   "mimetype": "text/x-python",
   "name": "python",
   "nbconvert_exporter": "python",
   "pygments_lexer": "ipython3",
   "version": "3.10.4"
  }
 },
 "nbformat": 4,
 "nbformat_minor": 5
}
