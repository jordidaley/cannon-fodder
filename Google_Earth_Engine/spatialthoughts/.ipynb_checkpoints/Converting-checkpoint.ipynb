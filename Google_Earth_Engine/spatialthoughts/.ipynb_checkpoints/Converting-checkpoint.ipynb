{
 "cells": [
  {
   "cell_type": "code",
   "execution_count": 1,
   "id": "46043a14-e45c-4d2a-8435-4a0c5ac81e81",
   "metadata": {},
   "outputs": [],
   "source": [
    "import ee"
   ]
  },
  {
   "cell_type": "code",
   "execution_count": 2,
   "id": "7ac881a6-4151-4ff8-aec0-088da2460762",
   "metadata": {},
   "outputs": [],
   "source": [
    "import geemap"
   ]
  },
  {
   "cell_type": "code",
   "execution_count": 3,
   "id": "ad6781d4-3c0e-4c8b-ad45-fc65ddd0e05e",
   "metadata": {},
   "outputs": [],
   "source": [
    "import collections\n",
    "collections.Callable = collections.abc.Callable"
   ]
  },
  {
   "cell_type": "code",
   "execution_count": 4,
   "id": "aad9bf05-304e-4f2c-853f-9a8cc8460122",
   "metadata": {},
   "outputs": [],
   "source": [
    "ee.Initialize()"
   ]
  },
  {
   "cell_type": "code",
   "execution_count": 7,
   "id": "05ca2cc3-7409-46a7-91d9-fb94c88e04d6",
   "metadata": {},
   "outputs": [],
   "source": [
    "javascript_code = \"\"\"\n",
    "var s2 = ee.ImageCollection(\"COPERNICUS/S2_SR\")\n",
    "var urbanAreas = ee.FeatureCollection(\"users/ujavalgandhi/e2e/ne_10m_urban_areas\")\n",
    "\n",
    "// Perform supervised classification for your city\n",
    "// Find the feature id by adding the layer to the map and using Inspector.\n",
    "var city = urbanAreas.filter(ee.Filter.eq('system:index', '00000000000000002bf8'))\n",
    "var geometry = city.geometry()\n",
    "Map.centerObject(geometry)\n",
    "\n",
    "var filtered = s2\n",
    ".filter(ee.Filter.lt('CLOUDY_PIXEL_PERCENTAGE', 30))\n",
    "  .filter(ee.Filter.date('2019-01-01', '2020-01-01'))\n",
    "  .filter(ee.Filter.bounds(geometry))\n",
    "  .select('B.*')\n",
    "\n",
    "var composite = filtered.median().clip(geometry) \n",
    "\n",
    "// Display the input composite.\n",
    "\n",
    "var rgbVis = {min: 0.0, max: 3000, bands: ['B4', 'B3', 'B2']};\n",
    "Map.addLayer(composite, rgbVis, 'image');\n",
    "\n",
    "// Exercise\n",
    "// Add training points for 4 classes\n",
    "// Assign the 'landcover' property as follows\n",
    "\n",
    "// urban: 0\n",
    "// bare: 1\n",
    "// water: 2\n",
    "// vegetation: 3\n",
    "\n",
    "// After adding points, uncomments lines below\n",
    "\n",
    "// var gcps = urban.merge(bare).merge(water).merge(vegetation)\n",
    "\n",
    "\n",
    "\n",
    "// // Overlay the point on the image to get training data.\n",
    "// var training = composite.sampleRegions({\n",
    "//   collection: gcps, \n",
    "//   properties: ['landcover'], \n",
    "//   scale: 10,\n",
    "//   tileScale: 16\n",
    "// });\n",
    "// print(training)\n",
    "\n",
    "\n",
    "// // Train a classifier.\n",
    "// var classifier = ee.Classifier.smileRandomForest(50).train({\n",
    "//   features: training,  \n",
    "//   classProperty: 'landcover', \n",
    "//   inputProperties: composite.bandNames()\n",
    "// });\n",
    "// // // Classify the image.\n",
    "// var classified = composite.classify(classifier);\n",
    "// Map.addLayer(classified, {min: 0, max: 3, palette: ['gray', 'brown', 'blue', 'green']}, '2019'); \n",
    "\n",
    "\n",
    "\n",
    "\"\"\""
   ]
  },
  {
   "cell_type": "code",
   "execution_count": 8,
   "id": "cbad8229-208a-4ff8-928d-f6ce370d267a",
   "metadata": {},
   "outputs": [
    {
     "name": "stdout",
     "output_type": "stream",
     "text": [
      "import ee\n",
      "import geemap\n",
      "Map = geemap.Map()\n",
      "\n",
      "s2 = ee.ImageCollection(\"COPERNICUS/S2_SR\")\n",
      "urbanAreas = ee.FeatureCollection(\"users/ujavalgandhi/e2e/ne_10m_urban_areas\")\n",
      "\n",
      "# Perform supervised classification for your city\n",
      "# Find the feature id by adding the layer to the map and using Inspector.\n",
      "city = urbanAreas.filter(ee.Filter.eq('system:index', '00000000000000002bf8'))\n",
      "geometry = city.geometry()\n",
      "Map.centerObject(geometry)\n",
      "\n",
      "filtered = s2 \\\n",
      ".filter(ee.Filter.lt('CLOUDY_PIXEL_PERCENTAGE', 30)) \\\n",
      "  .filter(ee.Filter.date('2019-01-01', '2020-01-01')) \\\n",
      "  .filter(ee.Filter.bounds(geometry)) \\\n",
      "  .select('B.*')\n",
      "\n",
      "composite = filtered.median().clip(geometry)\n",
      "\n",
      "# Display the input composite.\n",
      "\n",
      "rgbVis = {'min': 0.0, 'max': 3000, 'bands': ['B4', 'B3', 'B2']}\n",
      "Map.addLayer(composite, rgbVis, 'image')\n",
      "\n",
      "# Exercise\n",
      "# Add training points for 4 classes\n",
      "# Assign the 'landcover' property as follows\n",
      "\n",
      "# urban: 0\n",
      "# bare: 1\n",
      "# water: 2\n",
      "# vegetation: 3\n",
      "\n",
      "# After adding points, uncomments lines below\n",
      "\n",
      "# gcps = urban.merge(bare).merge(water).merge(vegetation)\n",
      "\n",
      "# # Overlay the point on the image to get training data.\n",
      "# training = composite.sampleRegions({\n",
      "#   collection: gcps,\n",
      "#   properties: ['landcover'],\n",
      "#   scale: 10,\n",
      "#   tileScale: 16\n",
      "# })\n",
      "# print(training)\n",
      "\n",
      "# # Train a classifier.\n",
      "# classifier = ee.Classifier.smileRandomForest(50).train({\n",
      "#   features: training,\n",
      "#   classProperty: 'landcover',\n",
      "#   inputProperties: composite.bandNames()\n",
      "# })\n",
      "# # # Classify the image.\n",
      "# classified = composite.classify(classifier)\n",
      "# Map.addLayer(classified, {min: 0, max: 3, palette: ['gray', 'brown', 'blue', 'green']}, '2019')\n",
      "Map\n"
     ]
    }
   ],
   "source": [
    "lines = geemap.js_snippet_to_py(\n",
    "    javascript_code, add_new_cell=False,\n",
    "    import_ee=True, import_geemap=True, show_map=True)\n",
    "for line in lines:\n",
    "    print(line.rstrip())"
   ]
  },
  {
   "cell_type": "code",
   "execution_count": null,
   "id": "666eeb43-99db-47fd-a70d-cb563d11de70",
   "metadata": {},
   "outputs": [],
   "source": []
  }
 ],
 "metadata": {
  "kernelspec": {
   "display_name": "Python 3 (ipykernel)",
   "language": "python",
   "name": "python3"
  },
  "language_info": {
   "codemirror_mode": {
    "name": "ipython",
    "version": 3
   },
   "file_extension": ".py",
   "mimetype": "text/x-python",
   "name": "python",
   "nbconvert_exporter": "python",
   "pygments_lexer": "ipython3",
   "version": "3.10.4"
  }
 },
 "nbformat": 4,
 "nbformat_minor": 5
}
