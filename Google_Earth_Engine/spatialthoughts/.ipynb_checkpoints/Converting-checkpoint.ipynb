{
 "cells": [
  {
   "cell_type": "code",
   "execution_count": 1,
   "id": "46043a14-e45c-4d2a-8435-4a0c5ac81e81",
   "metadata": {},
   "outputs": [],
   "source": [
    "import ee"
   ]
  },
  {
   "cell_type": "code",
   "execution_count": 2,
   "id": "7ac881a6-4151-4ff8-aec0-088da2460762",
   "metadata": {},
   "outputs": [],
   "source": [
    "import geemap"
   ]
  },
  {
   "cell_type": "code",
   "execution_count": 3,
   "id": "ad6781d4-3c0e-4c8b-ad45-fc65ddd0e05e",
   "metadata": {},
   "outputs": [],
   "source": [
    "import collections\n",
    "collections.Callable = collections.abc.Callable"
   ]
  },
  {
   "cell_type": "code",
   "execution_count": 8,
   "id": "aad9bf05-304e-4f2c-853f-9a8cc8460122",
   "metadata": {},
   "outputs": [],
   "source": [
    "ee.Initialize()"
   ]
  },
  {
   "cell_type": "code",
   "execution_count": 21,
   "id": "05ca2cc3-7409-46a7-91d9-fb94c88e04d6",
   "metadata": {},
   "outputs": [],
   "source": [
    "javascript_code = \"\"\"\n",
    "var s2 = ee.ImageCollection(\"COPERNICUS/S2\");\n",
    "var geometry = ee.Geometry.Polygon([[\n",
    "  [82.60642647743225, 27.16350437805251],\n",
    "  [82.60984897613525, 27.1618529901377],\n",
    "  [82.61088967323303, 27.163695288375266],\n",
    "  [82.60757446289062, 27.16517483230927]\n",
    "]]);\n",
    "Map.addLayer(geometry, {color: 'red'}, 'Farm')\n",
    "Map.centerObject(geometry)\n",
    "var rgbVis = {min: 0.0, max: 3000, bands: ['B4', 'B3', 'B2']};\n",
    "\n",
    "var filtered = s2\n",
    "  .filter(ee.Filter.date('2017-01-01', '2018-01-01'))\n",
    "  .filter(ee.Filter.lt('CLOUDY_PIXEL_PERCENTAGE', 30))\n",
    "  .filter(ee.Filter.bounds(geometry))\n",
    "\n",
    "// Write a function for Cloud masking\n",
    "function maskS2clouds(image) {\n",
    "  var qa = image.select('QA60')\n",
    "  var cloudBitMask = 1 << 10;\n",
    "  var cirrusBitMask = 1 << 11;\n",
    "  var mask = qa.bitwiseAnd(cloudBitMask).eq(0).and(\n",
    "             qa.bitwiseAnd(cirrusBitMask).eq(0))\n",
    "  return image.updateMask(mask)//.divide(10000)\n",
    "      .select(\"B.*\")\n",
    "      .copyProperties(image, [\"system:time_start\"])\n",
    "}\n",
    "\n",
    "var filtered = filtered.map(maskS2clouds)\n",
    "// Write a function that computes NDVI for an image and adds it as a band\n",
    "function addNDVI(image) {\n",
    "  var ndvi = image.normalizedDifference(['B8', 'B4']).rename('ndvi');\n",
    "  return image.addBands(ndvi);\n",
    "}\n",
    "\n",
    "// Map the function over the collection\n",
    "var withNdvi = filtered.map(addNDVI);\n",
    "\n",
    "\n",
    "// Display a time-series chart\n",
    "var chart = ui.Chart.image.series({\n",
    "  imageCollection: withNdvi.select('ndvi'),\n",
    "  region: geometry,\n",
    "  reducer: ee.Reducer.mean(),\n",
    "  scale: 20\n",
    "}).setOptions({\n",
    "      lineWidth: 1,\n",
    "      title: 'NDVI Time Series',\n",
    "      interpolateNulls: true,\n",
    "      vAxis: {title: 'NDVI'},\n",
    "      hAxis: {title: '', format: 'YYYY-MMM'}\n",
    "    })\n",
    "print(chart);\n",
    "\n",
    "\"\"\""
   ]
  },
  {
   "cell_type": "code",
   "execution_count": 22,
   "id": "cbad8229-208a-4ff8-928d-f6ce370d267a",
   "metadata": {},
   "outputs": [
    {
     "name": "stdout",
     "output_type": "stream",
     "text": [
      "import ee\n",
      "import geemap\n",
      "Map = geemap.Map()\n",
      "\n",
      "s2 = ee.ImageCollection(\"COPERNICUS/S2\")\n",
      "geometry = ee.Geometry.Polygon([[\n",
      "  [82.60642647743225, 27.16350437805251],\n",
      "  [82.60984897613525, 27.1618529901377],\n",
      "  [82.61088967323303, 27.163695288375266],\n",
      "  [82.60757446289062, 27.16517483230927]\n",
      "]])\n",
      "Map.addLayer(geometry, {'color': 'red'}, 'Farm')\n",
      "Map.centerObject(geometry)\n",
      "rgbVis = {'min': 0.0, 'max': 3000, 'bands': ['B4', 'B3', 'B2']}\n",
      "\n",
      "filtered = s2 \\\n",
      "  .filter(ee.Filter.date('2017-01-01', '2018-01-01')) \\\n",
      "  .filter(ee.Filter.lt('CLOUDY_PIXEL_PERCENTAGE', 30)) \\\n",
      "  .filter(ee.Filter.bounds(geometry))\n",
      "\n",
      "# Write a function for Cloud masking\n",
      "def maskS2clouds(image):\n",
      "  qa = image.select('QA60')\n",
      "  cloudBitMask = 1 << 10\n",
      "  cirrusBitMask = 1 << 11\n",
      "  mask = qa.bitwiseAnd(cloudBitMask).eq(0).And(\n",
      "             qa.bitwiseAnd(cirrusBitMask).eq(0))\n",
      "  return image.updateMask(mask)#.divide(10000) \\\n",
      "      .select(\"B.*\") \\\n",
      "      .copyProperties(image, [\"system:time_start\"])\n",
      "\n",
      "filtered = filtered.map(maskS2clouds)\n",
      "# Write a function that computes NDVI for an image and adds it as a band\n",
      "def addNDVI(image):\n",
      "  ndvi = image.normalizedDifference(['B8', 'B4']).rename('ndvi')\n",
      "  return image.addBands(ndvi)\n",
      "\n",
      "# Map the function over the collection\n",
      "withNdvi = filtered.map(addNDVI)\n",
      "\n",
      "# Display a time-series chart\n",
      "chart = ui.Chart.image.series({\n",
      "  'imageCollection': withNdvi.select('ndvi'),\n",
      "  'region': geometry,\n",
      "  'reducer': ee.Reducer.mean(),\n",
      "  'scale': 20\n",
      "}).setOptions({\n",
      "      'lineWidth': 1,\n",
      "      'title': 'NDVI Time Series',\n",
      "      'interpolateNulls': True,\n",
      "      'vAxis': '{title': 'NDVI'},\n",
      "      'hAxis': '{title': '', 'format': 'YYYY-MMM'}\n",
      "    })\n",
      "print(chart)\n",
      "Map\n"
     ]
    }
   ],
   "source": [
    "lines = geemap.js_snippet_to_py(\n",
    "    javascript_code, add_new_cell=False,\n",
    "    import_ee=True, import_geemap=True, show_map=True)\n",
    "for line in lines:\n",
    "    print(line.rstrip())"
   ]
  },
  {
   "cell_type": "code",
   "execution_count": null,
   "id": "666eeb43-99db-47fd-a70d-cb563d11de70",
   "metadata": {},
   "outputs": [],
   "source": []
  }
 ],
 "metadata": {
  "kernelspec": {
   "display_name": "Python 3 (ipykernel)",
   "language": "python",
   "name": "python3"
  },
  "language_info": {
   "codemirror_mode": {
    "name": "ipython",
    "version": 3
   },
   "file_extension": ".py",
   "mimetype": "text/x-python",
   "name": "python",
   "nbconvert_exporter": "python",
   "pygments_lexer": "ipython3",
   "version": "3.10.4"
  }
 },
 "nbformat": 4,
 "nbformat_minor": 5
}
