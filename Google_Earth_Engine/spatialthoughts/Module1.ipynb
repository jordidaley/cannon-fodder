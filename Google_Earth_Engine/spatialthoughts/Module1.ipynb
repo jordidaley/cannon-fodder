{
 "cells": [
  {
   "cell_type": "code",
   "execution_count": 85,
   "id": "36bdf7ce-6959-42aa-8ca5-36f0302d7a8f",
   "metadata": {},
   "outputs": [],
   "source": [
    "import ee\n",
    "import geemap\n",
    "import collections\n",
    "collections.Callable = collections.abc.Callable\n",
    "ee.Initialize()"
   ]
  },
  {
   "cell_type": "code",
   "execution_count": 2,
   "id": "0c15e345-9a8e-43a7-aa4a-1de0f08ce560",
   "metadata": {},
   "outputs": [
    {
     "name": "stdout",
     "output_type": "stream",
     "text": [
      "Hello World\n",
      "Bengaluru India\n",
      "8400000\n",
      "['Mumbai', 'Delhi', 'Chennai', 'Kolkata']\n",
      "{'city': 'Bengaluru', 'population': 8400000, 'elevation': 930}\n",
      "Hello World\n"
     ]
    }
   ],
   "source": [
    "print('Hello World')\n",
    "\n",
    "# Variables\n",
    "city = 'Bengaluru'\n",
    "country = 'India'\n",
    "print(city, country)\n",
    "\n",
    "population = 8400000\n",
    "print(population)\n",
    "\n",
    "# List\n",
    "majorCities = ['Mumbai', 'Delhi', 'Chennai', 'Kolkata']\n",
    "print(majorCities)\n",
    "\n",
    "# Dictionary\n",
    "cityData = {\n",
    "  'city': city,\n",
    "  'population': 8400000,\n",
    "  'elevation': 930\n",
    "}\n",
    "print(cityData)\n",
    "\n",
    "# Function\n",
    "def greet(name):\n",
    "    return 'Hello ' + name\n",
    "\n",
    "print(greet('World'))"
   ]
  },
  {
   "cell_type": "code",
   "execution_count": 3,
   "id": "d208247a-9db0-4677-aafc-e92246e44604",
   "metadata": {},
   "outputs": [
    {
     "name": "stdout",
     "output_type": "stream",
     "text": [
      "['Tokyo', 'Delhi', 'Shanghai', 'Mexico City', 'Sao Paulo']\n"
     ]
    }
   ],
   "source": [
    "# These are the 5 largest cities in the world:\n",
    "# Tokyo, Delhi, Shanghai, Mexico City, Sao Paulo\n",
    "\n",
    "# Create a list named 'largeCities'\n",
    "# The list should have names of all the above cities\n",
    "# Print the list\n",
    "\n",
    "largeCities = ['Tokyo', 'Delhi', 'Shanghai', 'Mexico City', 'Sao Paulo']\n",
    "print(largeCities)"
   ]
  },
  {
   "cell_type": "code",
   "execution_count": 4,
   "id": "f47fc3c8-54ab-4ff8-952e-a48abe3ae991",
   "metadata": {},
   "outputs": [
    {
     "data": {
      "application/vnd.jupyter.widget-view+json": {
       "model_id": "4a01c0a5e0724dfaaa0ab999036cd7ab",
       "version_major": 2,
       "version_minor": 0
      },
      "text/plain": [
       "Map(center=[33.16, -117.35], controls=(WidgetControl(options=['position', 'transparent_bg'], widget=HBox(child…"
      ]
     },
     "metadata": {},
     "output_type": "display_data"
    }
   ],
   "source": [
    "# Find the 'Sentinel-2 Level-1C' dataset page\n",
    "# https://developers.google.com/earth-engine/datasets\n",
    "\n",
    "# Copy/page the code snippet\n",
    "\n",
    "# Change the code to display images for your home city\n",
    "\n",
    "Map = geemap.Map()\n",
    "\n",
    "#*\n",
    " # Function to mask clouds using the Sentinel-2 QA band\n",
    " # @param {ee.Image} image Sentinel-2 image\n",
    " # @return {ee.Image} cloud masked Sentinel-2 image\n",
    "\n",
    "def maskS2clouds(image):\n",
    "  qa = image.select('QA60')\n",
    "\n",
    "  # Bits 10 and 11 are clouds and cirrus, respectively.\n",
    "  cloudBitMask = 1 << 10\n",
    "  cirrusBitMask = 1 << 11\n",
    "\n",
    "  # Both flags should be set to zero, indicating clear conditions.\n",
    "  mask = qa.bitwiseAnd(cloudBitMask).eq(0) \\\n",
    "      .And(qa.bitwiseAnd(cirrusBitMask).eq(0))\n",
    "\n",
    "  return image.updateMask(mask).divide(10000)\n",
    "\n",
    "dataset = ee.ImageCollection('COPERNICUS/S2_SR') \\\n",
    "                  .filterDate('2020-01-01', '2020-02-01') \\\n",
    "                  .filter(ee.Filter.lt('CLOUDY_PIXEL_PERCENTAGE',20)) \\\n",
    "                  .map(maskS2clouds)\n",
    "\n",
    "visualization = {\n",
    "  'min': 0.0,\n",
    "  'max': 0.3,\n",
    "  'bands': ['B4', 'B3', 'B2'],\n",
    "}\n",
    "\n",
    "Map.setCenter(-117.35, 33.16, 12)\n",
    "\n",
    "Map.addLayer(dataset.mean(), visualization, 'RGB')\n",
    "Map"
   ]
  },
  {
   "cell_type": "code",
   "execution_count": 5,
   "id": "57847858-15b9-4272-aaee-e101a55f3127",
   "metadata": {},
   "outputs": [
    {
     "name": "stdout",
     "output_type": "stream",
     "text": [
      "30\n"
     ]
    }
   ],
   "source": [
    "geometry = ee.Geometry.Point([77.60412933051538, 12.952912912328241])\n",
    "Map.centerObject(geometry, 10)\n",
    "\n",
    "s2 = ee.ImageCollection(\"COPERNICUS/S2\")\n",
    "\n",
    "# Filter by metadata\n",
    "filtered = s2.filter(ee.Filter.lt('CLOUDY_PIXEL_PERCENTAGE', 30))\n",
    "\n",
    "# Filter by date\n",
    "filtered = s2.filter(ee.Filter.date('2019-01-01', '2020-01-01'))\n",
    "\n",
    "# Filter by location\n",
    "filtered = s2.filter(ee.Filter.bounds(geometry))\n",
    "\n",
    "# Let's apply all the 3 filters together on the collection\n",
    "\n",
    "# First apply metadata fileter\n",
    "filtered1 = s2.filter(ee.Filter.lt('CLOUDY_PIXEL_PERCENTAGE', 30))\n",
    "# Apply date filter on the results\n",
    "filtered2 = filtered1.filter(\n",
    "  ee.Filter.date('2019-01-01', '2020-01-01'))\n",
    "# Lastly apply the location filter\n",
    "filtered3 = filtered2.filter(ee.Filter.bounds(geometry))\n",
    "\n",
    "# Instead of applying filters one after the other, we can 'chain' them\n",
    "# Use the . notation to apply all the filters together\n",
    "filtered = s2.filter(ee.Filter.lt('CLOUDY_PIXEL_PERCENTAGE', 30)) \\\n",
    "  .filter(ee.Filter.date('2019-01-01', '2020-01-01')) \\\n",
    "  .filter(ee.Filter.bounds(geometry))\n",
    "\n",
    "print(filtered.size().getInfo())"
   ]
  },
  {
   "cell_type": "code",
   "execution_count": 6,
   "id": "f099007c-f19c-4771-87df-c775707bd011",
   "metadata": {},
   "outputs": [
    {
     "name": "stdout",
     "output_type": "stream",
     "text": [
      "16\n"
     ]
    }
   ],
   "source": [
    "# Add one more filter in the script below to select images\n",
    "# from only one of the satellites - Sentinel-2A - from the\n",
    "# Sentinel-2 constellation\n",
    "\n",
    "# Hint1: Use the 'SPACECRAFT_NAME' property\n",
    "# Hint2: Use the ee.Filter.eq() filter\n",
    "\n",
    "geometry = ee.Geometry.Point([77.60412933051538, 12.952912912328241])\n",
    "Map.centerObject(geometry, 10)\n",
    "\n",
    "s2 = ee.ImageCollection(\"COPERNICUS/S2\")\n",
    "\n",
    "filtered = s2.filter(ee.Filter.lt('CLOUDY_PIXEL_PERCENTAGE', 30)) \\\n",
    "  .filter(ee.Filter.date('2019-01-01', '2020-01-01')) \\\n",
    "  .filter(ee.Filter.bounds(geometry)) \\\n",
    "  .filter(ee.Filter.eq('SPACECRAFT_NAME', 'Sentinel-2A'))\n",
    "  \n",
    "print(filtered.size().getInfo())"
   ]
  },
  {
   "cell_type": "code",
   "execution_count": 7,
   "id": "5ee1408f-0867-4855-874e-deeb84af4c0c",
   "metadata": {},
   "outputs": [
    {
     "data": {
      "application/vnd.jupyter.widget-view+json": {
       "model_id": "d25805168a664ba48f34a558f90db5d8",
       "version_major": 2,
       "version_minor": 0
      },
      "text/plain": [
       "Map(center=[12.952912912328241, 77.60412933051538], controls=(WidgetControl(options=['position', 'transparent_…"
      ]
     },
     "metadata": {},
     "output_type": "display_data"
    }
   ],
   "source": [
    "Map = geemap.Map()\n",
    "\n",
    "geometry = ee.Geometry.Point([77.60412933051538, 12.952912912328241])\n",
    "Map.centerObject(geometry, 10)\n",
    "s2 = ee.ImageCollection(\"COPERNICUS/S2\")\n",
    "\n",
    "rgbVis = {\n",
    "  'min': 0.0,\n",
    "  'max': 3000,\n",
    "  'bands': ['B4', 'B3', 'B2'],\n",
    "}\n",
    "filtered = s2.filter(ee.Filter.lt('CLOUDY_PIXEL_PERCENTAGE', 30)) \\\n",
    "  .filter(ee.Filter.date('2019-01-01', '2020-01-01')) \\\n",
    "  .filter(ee.Filter.bounds(geometry))\n",
    "\n",
    "mosaic = filtered.mosaic()\n",
    "\n",
    "medianComposite = filtered.median()\n",
    "\n",
    "Map.addLayer(filtered, rgbVis, 'Filtered Collection')\n",
    "Map.addLayer(mosaic, rgbVis, 'Mosaic')\n",
    "Map.addLayer(medianComposite, rgbVis, 'Median Composite')\n",
    "\n",
    "filtered = s2.filter(ee.Filter.lt('CLOUDY_PIXEL_PERCENTAGE', 30)) \\\n",
    "  .filter(ee.Filter.date('2020-01-01', '2021-01-01')) \\\n",
    "  .filter(ee.Filter.bounds(geometry))\n",
    "\n",
    "image2020 = filtered.median()\n",
    "Map.addLayer(image2020, rgbVis, '2020')\n",
    "\n",
    "Map"
   ]
  },
  {
   "cell_type": "code",
   "execution_count": 8,
   "id": "37ba254d-2ffa-472e-86c4-2e17647da173",
   "metadata": {},
   "outputs": [
    {
     "data": {
      "application/vnd.jupyter.widget-view+json": {
       "model_id": "5820b98d7a344b55a66479bedb3878c6",
       "version_major": 2,
       "version_minor": 0
      },
      "text/plain": [
       "Map(center=[12.952912912328241, 77.60412933051538], controls=(WidgetControl(options=['position', 'transparent_…"
      ]
     },
     "metadata": {},
     "output_type": "display_data"
    }
   ],
   "source": [
    "Map = geemap.Map()\n",
    "geometry = ee.Geometry.Point([77.60412933051538, 12.952912912328241])\n",
    "Map.centerObject(geometry, 6)\n",
    "\n",
    "#Apply a filter to select only the 'Bangalore Urban' district\n",
    "#Display only the selected district\n",
    "\n",
    "#Hint: The district names are in ADM2_NAME property\n",
    "\n",
    "admin2 = ee.FeatureCollection(\"FAO/GAUL_SIMPLIFIED_500m/2015/level2\");\n",
    "karnataka = admin2.filter(ee.Filter.eq('ADM1_NAME', 'Karnataka')) \\\n",
    "    .filter(ee.Filter.eq('ADM2_NAME', 'Bangalore Urban'))\n",
    "\n",
    "visParams = {'color': 'red'}\n",
    "Map.addLayer(karnataka, visParams, 'Karnataka Districts')\n",
    "Map"
   ]
  },
  {
   "cell_type": "code",
   "execution_count": 52,
   "id": "f5f49cae-fe79-4424-88e3-bd5cbf02fe81",
   "metadata": {},
   "outputs": [
    {
     "data": {
      "application/vnd.jupyter.widget-view+json": {
       "model_id": "5a974154ac03461b8c54620a8b88258a",
       "version_major": 2,
       "version_minor": 0
      },
      "text/plain": [
       "Map(center=[20, 0], controls=(WidgetControl(options=['position', 'transparent_bg'], widget=HBox(children=(Togg…"
      ]
     },
     "metadata": {},
     "output_type": "display_data"
    }
   ],
   "source": [
    "Map = geemap.Map()\n",
    "# Apply a filter to select only large urban areas\n",
    "# Use the property 'area_sqkm' and select all features \n",
    "# with area > 400 sq.km\n",
    "urban = ee.FeatureCollection(\"users/jordandaleyco/ne_10m_urban_areas\")\n",
    "furban = urban.filter(ee.Filter.greaterThan('area_sqkm', 400))\n",
    "Map.addLayer(furban, {'color': 'blue'}, 'Urban Areas')\n",
    "Map"
   ]
  },
  {
   "cell_type": "code",
   "execution_count": 73,
   "id": "b837a4aa-6509-4059-a8ed-d78c7b36cb5e",
   "metadata": {},
   "outputs": [
    {
     "data": {
      "application/vnd.jupyter.widget-view+json": {
       "model_id": "62da187480674a7580876fab4d69c678",
       "version_major": 2,
       "version_minor": 0
      },
      "text/plain": [
       "Map(center=[32.859340964817164, -117.11170156146046], controls=(WidgetControl(options=['position', 'transparen…"
      ]
     },
     "metadata": {},
     "output_type": "display_data"
    }
   ],
   "source": [
    "Map = geemap.Map()\n",
    "\n",
    "s2 = ee.ImageCollection(\"COPERNICUS/S2\")\n",
    "urban = ee.FeatureCollection(\"users/jordandaleyco/ne_10m_urban_areas\")\n",
    "\n",
    "# Find the feature id by adding the layer to the map and using Inspector.\n",
    "# Change the filter to your home city or any urban area of your choice\n",
    "filtered = urban.filter(ee.Filter.eq('system:index', '00000000000000002397'))\n",
    "\n",
    "geometry = filtered.geometry()\n",
    "Map.centerObject(geometry, 12)\n",
    "\n",
    "rgbVis = {\n",
    "  'min': 0.0,\n",
    "  'max': 3000,\n",
    "  'bands': ['B4', 'B3', 'B2'],\n",
    "}\n",
    "filtered = s2.filter(ee.Filter.lt('CLOUDY_PIXEL_PERCENTAGE', 30)) \\\n",
    "  .filter(ee.Filter.date('2019-01-01', '2020-01-01')) \\\n",
    "  .filter(ee.Filter.bounds(geometry))\n",
    "\n",
    "image = filtered.median()\n",
    "\n",
    "clipped = image.clip(geometry)\n",
    "\n",
    "Map.addLayer(clipped, rgbVis, 'Clipped')\n",
    "Map"
   ]
  },
  {
   "cell_type": "code",
   "execution_count": 82,
   "id": "88f33635-29a9-4b51-bcfc-0b7c71a51921",
   "metadata": {},
   "outputs": [],
   "source": [
    "Map = geemap.Map()\n",
    "\n",
    "task = ee.batch.Export.image.toDrive(\n",
    "    image=clipped,\n",
    "    description='SanDiego_Composite_Raw',\n",
    "    folder='earthengine',\n",
    "    fileNamePrefix='sandiego_composite_raw',\n",
    "    region=geometry,\n",
    "    scale=20,\n",
    "    maxPixels=1e9\n",
    ")\n",
    "\n",
    "task.start()\n",
    "\n",
    "# Rather than exporting raw bands, we can apply a rendered image\n",
    "# visualize() function allows you to apply the same parameters\n",
    "# that are used in earth engine which exports a 3-band RGB image\n",
    "visualized = clipped.visualize(['B4', 'B3', 'B2'])\n",
    "# Now the 'visualized' image is RGB image, no need to give visParams\n",
    "Map.addLayer(visualized, {}, 'Visualized Image')\n",
    "\n",
    "task = ee.batch.Export.image.toDrive(\n",
    "    image=visualized,\n",
    "    description='SanDiego_Composite_Visualized',\n",
    "    folder='earthengine',\n",
    "    fileNamePrefix='sandiego_composite_visualized',\n",
    "    region=geometry,\n",
    "    scale=20,\n",
    "    maxPixels=1e9\n",
    ")\n",
    "\n",
    "task.start()"
   ]
  },
  {
   "cell_type": "code",
   "execution_count": 89,
   "id": "dfdb24f7-26d3-4d1b-92a0-61c9dce58a1e",
   "metadata": {},
   "outputs": [
    {
     "data": {
      "text/plain": [
       "{'state': 'COMPLETED',\n",
       " 'description': 'SanDiego_Composite_Visualized',\n",
       " 'creation_timestamp_ms': 1653363720558,\n",
       " 'update_timestamp_ms': 1653364511687,\n",
       " 'start_timestamp_ms': 1653363730350,\n",
       " 'task_type': 'EXPORT_IMAGE',\n",
       " 'destination_uris': ['https://drive.google.com/#folders/102KDOanK5vd_Vgd137jVq_E5H-tvV10n'],\n",
       " 'attempt': 1,\n",
       " 'id': 'W5F2WC6XWHZC462LCWEHMK4W',\n",
       " 'name': 'projects/earthengine-legacy/operations/W5F2WC6XWHZC462LCWEHMK4W'}"
      ]
     },
     "execution_count": 89,
     "metadata": {},
     "output_type": "execute_result"
    }
   ],
   "source": [
    "task.status()"
   ]
  },
  {
   "cell_type": "code",
   "execution_count": null,
   "id": "8635dbff-88e0-4a7c-a47c-e48695261e25",
   "metadata": {},
   "outputs": [],
   "source": []
  }
 ],
 "metadata": {
  "kernelspec": {
   "display_name": "Python 3 (ipykernel)",
   "language": "python",
   "name": "python3"
  },
  "language_info": {
   "codemirror_mode": {
    "name": "ipython",
    "version": 3
   },
   "file_extension": ".py",
   "mimetype": "text/x-python",
   "name": "python",
   "nbconvert_exporter": "python",
   "pygments_lexer": "ipython3",
   "version": "3.10.4"
  }
 },
 "nbformat": 4,
 "nbformat_minor": 5
}
