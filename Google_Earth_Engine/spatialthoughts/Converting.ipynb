{
 "cells": [
  {
   "cell_type": "code",
   "execution_count": 7,
   "id": "46043a14-e45c-4d2a-8435-4a0c5ac81e81",
   "metadata": {},
   "outputs": [],
   "source": [
    "import ee"
   ]
  },
  {
   "cell_type": "code",
   "execution_count": 8,
   "id": "7ac881a6-4151-4ff8-aec0-088da2460762",
   "metadata": {},
   "outputs": [],
   "source": [
    "import geemap"
   ]
  },
  {
   "cell_type": "code",
   "execution_count": 9,
   "id": "ad6781d4-3c0e-4c8b-ad45-fc65ddd0e05e",
   "metadata": {},
   "outputs": [],
   "source": [
    "import collections\n",
    "collections.Callable = collections.abc.Callable"
   ]
  },
  {
   "cell_type": "code",
   "execution_count": 10,
   "id": "aad9bf05-304e-4f2c-853f-9a8cc8460122",
   "metadata": {},
   "outputs": [],
   "source": [
    "ee.Initialize()"
   ]
  },
  {
   "cell_type": "code",
   "execution_count": 17,
   "id": "05ca2cc3-7409-46a7-91d9-fb94c88e04d6",
   "metadata": {},
   "outputs": [],
   "source": [
    "javascript_code = \"\"\"\n",
    "var s2 = ee.ImageCollection(\"COPERNICUS/S2\");\n",
    "var admin2 = ee.FeatureCollection(\"FAO/GAUL_SIMPLIFIED_500m/2015/level2\");\n",
    "\n",
    "var bangalore = admin2.filter(ee.Filter.eq('ADM2_NAME', 'Bangalore Urban'))\n",
    "var geometry = bangalore.geometry()\n",
    "Map.centerObject(geometry)\n",
    "\n",
    "var filtered = s2.filter(ee.Filter.lt('CLOUDY_PIXEL_PERCENTAGE', 30))\n",
    "  .filter(ee.Filter.date('2019-01-01', '2020-01-01'))\n",
    "  .filter(ee.Filter.bounds(geometry))\n",
    "\n",
    "var image = filtered.median(); \n",
    "\n",
    "// Exercise\n",
    "\n",
    "// Calculate the Normalized Difference Built-Up Index (NDBI) for the image\n",
    "// Hint: NDBI = (SWIR1 – NIR) / (SWIR1 + NIR)\n",
    "// Visualize the built-up area using a 'red' palette\n",
    "\n",
    "\"\"\""
   ]
  },
  {
   "cell_type": "code",
   "execution_count": 18,
   "id": "cbad8229-208a-4ff8-928d-f6ce370d267a",
   "metadata": {},
   "outputs": [
    {
     "name": "stdout",
     "output_type": "stream",
     "text": [
      "import ee\n",
      "import geemap\n",
      "Map = geemap.Map()\n",
      "\n",
      "s2 = ee.ImageCollection(\"COPERNICUS/S2\")\n",
      "admin2 = ee.FeatureCollection(\"FAO/GAUL_SIMPLIFIED_500m/2015/level2\")\n",
      "\n",
      "bangalore = admin2.filter(ee.Filter.eq('ADM2_NAME', 'Bangalore Urban'))\n",
      "geometry = bangalore.geometry()\n",
      "Map.centerObject(geometry)\n",
      "\n",
      "filtered = s2.filter(ee.Filter.lt('CLOUDY_PIXEL_PERCENTAGE', 30)) \\\n",
      "  .filter(ee.Filter.date('2019-01-01', '2020-01-01')) \\\n",
      "  .filter(ee.Filter.bounds(geometry))\n",
      "\n",
      "image = filtered.median()\n",
      "\n",
      "# Exercise\n",
      "\n",
      "# Calculate the Normalized Difference Built-Up Index (NDBI) for the image\n",
      "# Hint: NDBI = (SWIR1 – NIR) / (SWIR1 + NIR)\n",
      "# Visualize the built-up area using a 'red' palette\n",
      "Map\n"
     ]
    }
   ],
   "source": [
    "lines = geemap.js_snippet_to_py(\n",
    "    javascript_code, add_new_cell=False,\n",
    "    import_ee=True, import_geemap=True, show_map=True)\n",
    "for line in lines:\n",
    "    print(line.rstrip())"
   ]
  },
  {
   "cell_type": "code",
   "execution_count": null,
   "id": "666eeb43-99db-47fd-a70d-cb563d11de70",
   "metadata": {},
   "outputs": [],
   "source": []
  }
 ],
 "metadata": {
  "kernelspec": {
   "display_name": "Python 3 (ipykernel)",
   "language": "python",
   "name": "python3"
  },
  "language_info": {
   "codemirror_mode": {
    "name": "ipython",
    "version": 3
   },
   "file_extension": ".py",
   "mimetype": "text/x-python",
   "name": "python",
   "nbconvert_exporter": "python",
   "pygments_lexer": "ipython3",
   "version": "3.10.4"
  }
 },
 "nbformat": 4,
 "nbformat_minor": 5
}
