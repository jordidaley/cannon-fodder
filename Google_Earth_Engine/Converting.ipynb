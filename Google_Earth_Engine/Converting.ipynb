{
 "cells": [
  {
   "cell_type": "code",
   "execution_count": 1,
   "id": "46043a14-e45c-4d2a-8435-4a0c5ac81e81",
   "metadata": {},
   "outputs": [],
   "source": [
    "import ee"
   ]
  },
  {
   "cell_type": "code",
   "execution_count": 2,
   "id": "7ac881a6-4151-4ff8-aec0-088da2460762",
   "metadata": {},
   "outputs": [],
   "source": [
    "import geemap"
   ]
  },
  {
   "cell_type": "code",
   "execution_count": 3,
   "id": "ad6781d4-3c0e-4c8b-ad45-fc65ddd0e05e",
   "metadata": {},
   "outputs": [],
   "source": [
    "import collections\n",
    "collections.Callable = collections.abc.Callable"
   ]
  },
  {
   "cell_type": "code",
   "execution_count": 9,
   "id": "49f3fa05-d7e6-4b4c-91bf-0642fed70eef",
   "metadata": {},
   "outputs": [],
   "source": [
    "ee.Initialize()"
   ]
  },
  {
   "cell_type": "code",
   "execution_count": 56,
   "id": "05ca2cc3-7409-46a7-91d9-fb94c88e04d6",
   "metadata": {},
   "outputs": [],
   "source": [
    "javascript_code = \"\"\"\n",
    "var geometry = ee.Geometry.Point([77.60412933051538, 12.952912912328241])\n",
    "var s2 = ee.ImageCollection(\"COPERNICUS/S2\");\n",
    "\n",
    "var rgbVis = {\n",
    "  min: 0.0,\n",
    "  max: 3000,\n",
    "  bands: ['B4', 'B3', 'B2'],\n",
    "};\n",
    "var filtered = s2.filter(ee.Filter.lt('CLOUDY_PIXEL_PERCENTAGE', 30))\n",
    "  .filter(ee.Filter.date('2019-01-01', '2020-01-01'))\n",
    "  .filter(ee.Filter.bounds(geometry))\n",
    " \n",
    "var mosaic = filtered.mosaic() \n",
    " \n",
    "var medianComposite = filtered.median();\n",
    "\n",
    "Map.addLayer(filtered, rgbVis, 'Filtered Collection');\n",
    "Map.addLayer(mosaic, rgbVis, 'Mosaic');\n",
    "Map.addLayer(medianComposite, rgbVis, 'Median Composite')\n",
    "\n",
    "\n",
    "\"\"\""
   ]
  },
  {
   "cell_type": "code",
   "execution_count": 57,
   "id": "cbad8229-208a-4ff8-928d-f6ce370d267a",
   "metadata": {},
   "outputs": [
    {
     "name": "stdout",
     "output_type": "stream",
     "text": [
      "import ee\n",
      "import geemap\n",
      "Map = geemap.Map()\n",
      "\n",
      "geometry = ee.Geometry.Point([77.60412933051538, 12.952912912328241])\n",
      "s2 = ee.ImageCollection(\"COPERNICUS/S2\")\n",
      "\n",
      "rgbVis = {\n",
      "  'min': 0.0,\n",
      "  'max': 3000,\n",
      "  'bands': ['B4', 'B3', 'B2'],\n",
      "}\n",
      "filtered = s2.filter(ee.Filter.lt('CLOUDY_PIXEL_PERCENTAGE', 30)) \\\n",
      "  .filter(ee.Filter.date('2019-01-01', '2020-01-01')) \\\n",
      "  .filter(ee.Filter.bounds(geometry))\n",
      "\n",
      "mosaic = filtered.mosaic()\n",
      "\n",
      "medianComposite = filtered.median()\n",
      "\n",
      "Map.addLayer(filtered, rgbVis, 'Filtered Collection')\n",
      "Map.addLayer(mosaic, rgbVis, 'Mosaic')\n",
      "Map.addLayer(medianComposite, rgbVis, 'Median Composite')\n",
      "Map\n"
     ]
    }
   ],
   "source": [
    "lines = geemap.js_snippet_to_py(\n",
    "    javascript_code, add_new_cell=False,\n",
    "    import_ee=True, import_geemap=True, show_map=True)\n",
    "for line in lines:\n",
    "    print(line.rstrip())"
   ]
  },
  {
   "cell_type": "code",
   "execution_count": null,
   "id": "666eeb43-99db-47fd-a70d-cb563d11de70",
   "metadata": {},
   "outputs": [],
   "source": []
  }
 ],
 "metadata": {
  "kernelspec": {
   "display_name": "Python 3 (ipykernel)",
   "language": "python",
   "name": "python3"
  },
  "language_info": {
   "codemirror_mode": {
    "name": "ipython",
    "version": 3
   },
   "file_extension": ".py",
   "mimetype": "text/x-python",
   "name": "python",
   "nbconvert_exporter": "python",
   "pygments_lexer": "ipython3",
   "version": "3.9.7"
  }
 },
 "nbformat": 4,
 "nbformat_minor": 5
}
