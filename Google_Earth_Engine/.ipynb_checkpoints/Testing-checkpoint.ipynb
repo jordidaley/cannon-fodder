{
 "cells": [
  {
   "cell_type": "code",
   "execution_count": 1,
   "id": "36bdf7ce-6959-42aa-8ca5-36f0302d7a8f",
   "metadata": {},
   "outputs": [],
   "source": [
    "import ee\n",
    "import geemap\n",
    "import collections\n",
    "collections.Callable = collections.abc.Callable\n",
    "ee.Initialize()"
   ]
  },
  {
   "cell_type": "code",
   "execution_count": 3,
   "id": "0c15e345-9a8e-43a7-aa4a-1de0f08ce560",
   "metadata": {},
   "outputs": [
    {
     "data": {
      "application/vnd.jupyter.widget-view+json": {
       "model_id": "68fe282fa93648beaf9a153402744fa8",
       "version_major": 2,
       "version_minor": 0
      },
      "text/plain": [
       "Map(center=[33.16, -117.35000000000001], controls=(WidgetControl(options=['position', 'transparent_bg'], widge…"
      ]
     },
     "metadata": {},
     "output_type": "display_data"
    }
   ],
   "source": [
    "Map = geemap.Map()\n",
    "\n",
    "geometry = ee.Geometry.Point([-117.35, 33.16])\n",
    "Map.centerObject(geometry, 10)\n",
    "\n",
    "s2 = ee.ImageCollection(\"COPERNICUS/S2\")\n",
    "\n",
    "# Filter by metadata\n",
    "filtered = s2.filter(ee.Filter.lt('CLOUDY_PIXEL_PERCENTAGE', 30))\n",
    "\n",
    "# Filter by date\n",
    "filtered = s2.filter(ee.Filter.date('2019-01-01', '2020-01-01'))\n",
    "\n",
    "# Filter by location\n",
    "filtered = s2.filter(ee.Filter.bounds(geometry))\n",
    "\n",
    "# Let's apply all the 3 filters together on the collection\n",
    "\n",
    "# First apply metadata fileter\n",
    "filtered1 = s2.filter(ee.Filter.lt('CLOUDY_PIXEL_PERCENTAGE', 30))\n",
    "# Apply date filter on the results\n",
    "filtered2 = filtered1.filter(\n",
    "  ee.Filter.date('2019-01-01', '2020-01-01'))\n",
    "# Lastly apply the location filter\n",
    "filtered3 = filtered2.filter(ee.Filter.bounds(geometry))\n",
    "\n",
    "# Instead of applying filters one after the other, we can 'chain' them\n",
    "# Use the . notation to apply all the filters together\n",
    "filtered = s2.filterDate('2019-01-01', '2020-01-01') \\\n",
    "    .filterBounds(geometry) \\\n",
    "    .filter(ee.Filter.lt('CLOUDY_PIXEL_PERCENTAGE', 30)) \\\n",
    "    .filter(ee.Filter.eq('SPACECRAFT_NAME', 'Sentinel-2A'))\n",
    "\n",
    "image2 = filtered.first()\n",
    "\n",
    "vis_param = {'min': 0, \n",
    "             'max': 2000, \n",
    "             'bands': ['B5', 'B4', 'B3'], \n",
    "             'gamma': 1.5}\n",
    "\n",
    "Map.addLayer(image2, vis_param, \"First mage\")\n",
    "Map"
   ]
  },
  {
   "cell_type": "code",
   "execution_count": 15,
   "id": "d208247a-9db0-4677-aafc-e92246e44604",
   "metadata": {},
   "outputs": [
    {
     "data": {
      "application/vnd.jupyter.widget-view+json": {
       "model_id": "f573c6835c84460c9e1c085112fcb832",
       "version_major": 2,
       "version_minor": 0
      },
      "text/plain": [
       "Map(center=[33.16, -117.35000000000001], controls=(WidgetControl(options=['position', 'transparent_bg'], widge…"
      ]
     },
     "metadata": {},
     "output_type": "display_data"
    }
   ],
   "source": [
    "Map = geemap.Map()\n",
    "\n",
    "geometry = ee.Geometry.Point([-117.35, 33.16])\n",
    "Map.centerObject(geometry, 10)\n",
    "s2 = ee.ImageCollection(\"COPERNICUS/S2\")\n",
    "\n",
    "rgbVis = {\n",
    "  'min': 0.0,\n",
    "  'max': 3000,\n",
    "  'bands': ['B4', 'B3', 'B2'],\n",
    "}\n",
    "filtered = s2.filter(ee.Filter.lt('CLOUDY_PIXEL_PERCENTAGE', 30)) \\\n",
    "  .filterDate('2020-01-01', '2021-01-01') \\\n",
    "  .filterBounds(geometry)\n",
    "\n",
    "image2 = filtered.first()\n",
    "mosaic = filtered.mosaic()\n",
    "\n",
    "medianComposite = filtered.median()\n",
    "\n",
    "Map.addLayer(mosaic, rgbVis, 'Mosaic')\n",
    "Map.addLayer(image2, rgbVis, 'Filtered Collection')\n",
    "Map.addLayer(medianComposite, rgbVis, 'Median Composite')\n",
    "\n",
    "Map"
   ]
  },
  {
   "cell_type": "markdown",
   "id": "42481b24-d103-4e2f-bf85-650f04365e83",
   "metadata": {},
   "source": [
    "# stopped on 4"
   ]
  },
  {
   "cell_type": "code",
   "execution_count": null,
   "id": "f47fc3c8-54ab-4ff8-952e-a48abe3ae991",
   "metadata": {},
   "outputs": [],
   "source": []
  }
 ],
 "metadata": {
  "kernelspec": {
   "display_name": "Python 3 (ipykernel)",
   "language": "python",
   "name": "python3"
  },
  "language_info": {
   "codemirror_mode": {
    "name": "ipython",
    "version": 3
   },
   "file_extension": ".py",
   "mimetype": "text/x-python",
   "name": "python",
   "nbconvert_exporter": "python",
   "pygments_lexer": "ipython3",
   "version": "3.9.7"
  }
 },
 "nbformat": 4,
 "nbformat_minor": 5
}
